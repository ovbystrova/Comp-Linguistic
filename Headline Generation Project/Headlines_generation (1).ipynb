{
  "nbformat": 4,
  "nbformat_minor": 0,
  "metadata": {
    "colab": {
      "name": "Headlines generation",
      "version": "0.3.2",
      "provenance": [],
      "toc_visible": true
    },
    "kernelspec": {
      "name": "python3",
      "display_name": "Python 3"
    },
    "accelerator": "GPU"
  },
  "cells": [
    {
      "cell_type": "markdown",
      "metadata": {
        "id": "nROPT-Bqiar-",
        "colab_type": "text"
      },
      "source": [
        "#1. Импортиртируем модули и загружаем данные"
      ]
    },
    {
      "cell_type": "markdown",
      "metadata": {
        "id": "0kYpBllEp0_W",
        "colab_type": "text"
      },
      "source": [
        "В НОУТБУКЕ ПРЕДСТАВЛЕНА ЛУЧШАЯ МОДЕЛЬ ИЗ РАССМОТРЕННЫХ С ЛУЧШИМИ ПАРАМЕТРАМИ. МЕНЯЛИСЬ КОЛ-ВО СЛОЕВ В СЕТИ, ДЛИНА СТАТЬИ, ДРОПАУТ. На первом этапе произведен импорт всех необходимых модулей, загруженны данный из гугл диска (ria_processed; предобученные вектора fasttext для русского языка). Данные приведены к формату data - кортеж, состоящий из двух списков. В первом - заголовки, во втором - статьи."
      ]
    },
    {
      "cell_type": "code",
      "metadata": {
        "id": "o_Sy-J3gXUYE",
        "colab_type": "code",
        "outputId": "8020c17d-8630-48dd-f405-81d8a1cb17b4",
        "colab": {
          "base_uri": "https://localhost:8080/",
          "height": 33
        }
      },
      "source": [
        "import ujson \n",
        "import re\n",
        "import numpy as np\n",
        "import pickle\n",
        "import random, sys\n",
        "from keras.preprocessing import sequence\n",
        "from keras.utils import np_utils"
      ],
      "execution_count": 0,
      "outputs": [
        {
          "output_type": "stream",
          "text": [
            "Using TensorFlow backend.\n"
          ],
          "name": "stderr"
        }
      ]
    },
    {
      "cell_type": "code",
      "metadata": {
        "id": "oAGD1CSSn6hX",
        "colab_type": "code",
        "colab": {}
      },
      "source": [
        "#Данные скачиваются из гугл диска, поэтому нужно предоставить колабу доступ. \n",
        "#!pip install PyDrive\n",
        "import os\n",
        "from pydrive.auth import GoogleAuth\n",
        "from pydrive.drive import GoogleDrive\n",
        "from google.colab import auth\n",
        "from oauth2client.client import GoogleCredentials\n",
        "auth.authenticate_user()\n",
        "gauth = GoogleAuth()\n",
        "gauth.credentials = GoogleCredentials.get_application_default()\n",
        "drive = GoogleDrive(gauth)"
      ],
      "execution_count": 0,
      "outputs": []
    },
    {
      "cell_type": "code",
      "metadata": {
        "id": "G3D9-CiqpSJQ",
        "colab_type": "code",
        "colab": {}
      },
      "source": [
        "#id файлов с гугл диска. \n",
        "#Исходные файлы есть на гитхабе (https://github.com/RossiyaSegodnya/ria_news_dataset) и тут(https://fasttext.cc/docs/en/crawl-vectors.html)\n",
        "download = drive.CreateFile({'id': '1SDJlygqwS_zj5EEeQU9LV4WCtwRvPivC'})\n",
        "download.GetContentFile('ria.json.gz')\n",
        "download = drive.CreateFile({'id': '1gvAL8sb8t5czyTPh84-pvBvq0Zake2_K'})\n",
        "download.GetContentFile('cc.ru.300.vec.gz')"
      ],
      "execution_count": 0,
      "outputs": []
    },
    {
      "cell_type": "code",
      "metadata": {
        "id": "Kv1sPRFWrsSS",
        "colab_type": "code",
        "outputId": "3eabf6ed-5a3c-4225-ab9b-96b657653d45",
        "colab": {
          "base_uri": "https://localhost:8080/",
          "height": 84
        }
      },
      "source": [
        "!gunzip 'cc.ru.300.vec.gz'\n",
        "!gunzip 'ria.json.gz'"
      ],
      "execution_count": 0,
      "outputs": [
        {
          "output_type": "stream",
          "text": [
            "gzip: cc.ru.300.vec already exists; do you wish to overwrite (y or n)? n\n",
            "\tnot overwritten\n",
            "gzip: ria.json already exists; do you wish to overwrite (y or n)? n\n",
            "\tnot overwritten\n"
          ],
          "name": "stdout"
        }
      ]
    },
    {
      "cell_type": "code",
      "metadata": {
        "id": "n2W7BE_4XrQD",
        "colab_type": "code",
        "colab": {}
      },
      "source": [
        "json_name = 'ria_1k.json'\n",
        "json_full = 'ria.json'"
      ],
      "execution_count": 0,
      "outputs": []
    },
    {
      "cell_type": "code",
      "metadata": {
        "id": "phf-AC1RXyV2",
        "colab_type": "code",
        "colab": {}
      },
      "source": [
        "data_json = []\n",
        "with open(json_full, 'r', encoding = 'utf-8') as file:\n",
        "            for line in file.readlines()[:50000]:\n",
        "                data_json += [ujson.loads(line)]"
      ],
      "execution_count": 0,
      "outputs": []
    },
    {
      "cell_type": "code",
      "metadata": {
        "id": "bUdekVg7X3Cr",
        "colab_type": "code",
        "outputId": "d192a3cf-e89c-4eb6-ea67-a898353abf25",
        "colab": {
          "base_uri": "https://localhost:8080/",
          "height": 104
        }
      },
      "source": [
        "type(data_json), len(data_json), data_json[0]"
      ],
      "execution_count": 0,
      "outputs": [
        {
          "output_type": "execute_result",
          "data": {
            "text/plain": [
              "(list,\n",
              " 50000,\n",
              " {'text': '<p><strong></strong></p>\\n<p><strong>москва, 31 янв - риа новости.</strong> большая часть из 33 детей, которых граждане сша пытались вывезти из гаити в организованный в доминиканской республике приют, не являются сиротами, сообщает в воскресенье <a href=\"http://www.afp.com\" target=\"_blank\">агентство франс пресс</a> со ссылкой на заявление представителя международной организации \"детские деревни sos\" (sos children\\'s village), оказывающей помощь детям, оставшимся без родителей</p>\\n<p>как заявила агентству патрисия варгас (patricia vargas), курирующая программы \"детских деревень sos\" в центральной америке, мексике и на карибах, поговорив с детьми она выяснила, что родители многих из них живы. некоторые дети смогли назвать свои домашние адреса и номера телефонов, что дает возможность связаться с их родителями.</p>\\n<p>в это воскресенье <a href=\"http://rian.ru/society/20100131/207037914.html\" target=\"_blank\">гаитянская полиция задержала десятерых граждан сша</a>, подозреваемых в попытке без разрешения вывезти более 30 детей в доминиканскую республику.</p>\\n<p>представитель баптистской церкви в городе меридиан американского штата айдахо шон лэнкфорд (sean lankford) заявил, что задержанные прибыли на гаити в составе группы, помогающей детям, которые остались без родителей после разрушительного землетрясения 12 января.</p>\\n<p>лэнкфорд также сообщил, что в числе задержанных его дочь и жена, и они думали, что у них имеются все необходимые документы, позволяющие вывезти детей в организованный в доминиканской республике приют.</p>\\n<p>в настоящее время все эти дети, за исключением маленькой девочки, страдающей от истощения, которая была госпитализирована, находятся в благотворительном центре организации в городе круа-де-букет (croix des bouquets), расположенном в 12 километрах к северо-востоку от столицы гаити порт-о-пренса.</p>\\n<p>по словам варгас, точный возраст малышки не известен, врачи полагают, что ей около 7 месяцев.</p>\\n<p>центр \"детских деревень sos\" на гаити юридически не является сиротским приютом и не отдает детей на усыновление.</p>\\n<p><em><strong>ранее гаитянские интернет-ресурсы сообщали, что</strong></em> <strong><a href=\"http://www.rian.ru/society/20100128/206736391.html\" target=\"_blank\">за  детьми, оставшимися сиротами после землетрясения, охотятся педофилы и торговцы  людьми &gt;&gt;</a></strong></p>\\n<p>как отмечает франс пресс, после разгула стихии на гаити были установлены новые правила усыновления, согласно которым премьер-министр страны жан-макс бельрив должен лично разрешить вывоз сирот. целью подобных мер является пресечение попыток незаконного вывоза детей для преступных целей в условиях хаоса, царящего в стране после разгула стихии.</p>\\n<p>по данным ответственных лиц на гаити, тысячи детей могли быть разлучены с родителями или лишиться их в результате <a href=\"http://www.rian.ru/trend/earthquake_haiti_13012010/\" target=\"_blank\">двух землетрясений магнитудой 7 и 5,9</a>, произошедших у побережья этого островного государства 12 января.</p>',\n",
              "  'title': 'большинство детей, которых пытались увезти в сша из гаити, не сироты'})"
            ]
          },
          "metadata": {
            "tags": []
          },
          "execution_count": 7
        }
      ]
    },
    {
      "cell_type": "code",
      "metadata": {
        "id": "lJ3llim9Ynor",
        "colab_type": "code",
        "colab": {}
      },
      "source": [
        "#data_processed = []\n",
        "heads = []\n",
        "descs = []\n",
        "keywords = []\n",
        "pre_data = []\n",
        "for val in data_json:\n",
        "    title = val['title']\n",
        "    title = re.sub(r'\\<[^>]*\\>', '', title)\n",
        "    body = val['text']\n",
        "    body = re.sub(r'\\<[^>]*\\>', '', body)\n",
        "    body = re.sub(r'\\n', ' ', body)\n",
        "    body = re.sub(r'&[a-z]{0,7};', ' ', body)\n",
        "    body = re.sub(r'\\s{2,10}', ' ', body)\n",
        "    title = re.sub(r'\\s{2,10}', ' ', title)\n",
        "    heads.append(title)\n",
        "    descs.append(body)\n",
        "    pre_data.append([title, body])"
      ],
      "execution_count": 0,
      "outputs": []
    },
    {
      "cell_type": "code",
      "metadata": {
        "id": "UjAcZ5uNZVQ_",
        "colab_type": "code",
        "outputId": "1fc75199-7176-4e67-ccf0-7833a675b74d",
        "colab": {
          "base_uri": "https://localhost:8080/",
          "height": 137
        }
      },
      "source": [
        "heads[:5], descs[0]"
      ],
      "execution_count": 0,
      "outputs": [
        {
          "output_type": "execute_result",
          "data": {
            "text/plain": [
              "(['большинство детей, которых пытались увезти в сша из гаити, не сироты',\n",
              "  'луценко будет работать в команде тимошенко, если она победит в выборах',\n",
              "  '\"лютые\" выборы: есть ли вероятность второго майдана?',\n",
              "  'жертвами бойни на севере мексики стали 13 молодых людей, еще 20 ранены',\n",
              "  'немец беррер выиграл теннисный турнир на родине '],\n",
              " ' москва, 31 янв - риа новости. большая часть из 33 детей, которых граждане сша пытались вывезти из гаити в организованный в доминиканской республике приют, не являются сиротами, сообщает в воскресенье агентство франс пресс со ссылкой на заявление представителя международной организации \"детские деревни sos\" (sos children\\'s village), оказывающей помощь детям, оставшимся без родителей как заявила агентству патрисия варгас (patricia vargas), курирующая программы \"детских деревень sos\" в центральной америке, мексике и на карибах, поговорив с детьми она выяснила, что родители многих из них живы. некоторые дети смогли назвать свои домашние адреса и номера телефонов, что дает возможность связаться с их родителями. в это воскресенье гаитянская полиция задержала десятерых граждан сша, подозреваемых в попытке без разрешения вывезти более 30 детей в доминиканскую республику. представитель баптистской церкви в городе меридиан американского штата айдахо шон лэнкфорд (sean lankford) заявил, что задержанные прибыли на гаити в составе группы, помогающей детям, которые остались без родителей после разрушительного землетрясения 12 января. лэнкфорд также сообщил, что в числе задержанных его дочь и жена, и они думали, что у них имеются все необходимые документы, позволяющие вывезти детей в организованный в доминиканской республике приют. в настоящее время все эти дети, за исключением маленькой девочки, страдающей от истощения, которая была госпитализирована, находятся в благотворительном центре организации в городе круа-де-букет (croix des bouquets), расположенном в 12 километрах к северо-востоку от столицы гаити порт-о-пренса. по словам варгас, точный возраст малышки не известен, врачи полагают, что ей около 7 месяцев. центр \"детских деревень sos\" на гаити юридически не является сиротским приютом и не отдает детей на усыновление. ранее гаитянские интернет-ресурсы сообщали, что за детьми, оставшимися сиротами после землетрясения, охотятся педофилы и торговцы людьми как отмечает франс пресс, после разгула стихии на гаити были установлены новые правила усыновления, согласно которым премьер-министр страны жан-макс бельрив должен лично разрешить вывоз сирот. целью подобных мер является пресечение попыток незаконного вывоза детей для преступных целей в условиях хаоса, царящего в стране после разгула стихии. по данным ответственных лиц на гаити, тысячи детей могли быть разлучены с родителями или лишиться их в результате двух землетрясений магнитудой 7 и 5,9, произошедших у побережья этого островного государства 12 января.')"
            ]
          },
          "metadata": {
            "tags": []
          },
          "execution_count": 9
        }
      ]
    },
    {
      "cell_type": "code",
      "metadata": {
        "id": "_yp6EYKFZwEE",
        "colab_type": "code",
        "colab": {}
      },
      "source": [
        "assert len(heads) == len(descs)\n",
        "data = (heads, descs)\n",
        "del data_json"
      ],
      "execution_count": 0,
      "outputs": []
    },
    {
      "cell_type": "markdown",
      "metadata": {
        "id": "ZK0SacUqinxy",
        "colab_type": "text"
      },
      "source": [
        "# 2. Индексируем и векторное представление"
      ]
    },
    {
      "cell_type": "markdown",
      "metadata": {
        "id": "WLEV9nX2qi6X",
        "colab_type": "text"
      },
      "source": [
        "На данном этапе сосдается вокабуляр. Каждому слову присваивается индекс. Загружаются эмбединги из fasttext. "
      ]
    },
    {
      "cell_type": "code",
      "metadata": {
        "id": "r8oAZgwRit8D",
        "colab_type": "code",
        "colab": {}
      },
      "source": [
        "seed=42\n",
        "vocab_size = 20000\n",
        "#embedding_dim = 100"
      ],
      "execution_count": 0,
      "outputs": []
    },
    {
      "cell_type": "code",
      "metadata": {
        "id": "e09YMfszi3_o",
        "colab_type": "code",
        "colab": {}
      },
      "source": [
        "from collections import Counter\n",
        "#from itertools import chain\n",
        "def get_vocab(lst):\n",
        "    vocabcount = Counter(w for txt in lst for w in txt.split())\n",
        "    vocab = list(map(lambda x: x[0], sorted(vocabcount.items(), key=lambda x: -x[1])))\n",
        "    return vocab, vocabcount"
      ],
      "execution_count": 0,
      "outputs": []
    },
    {
      "cell_type": "code",
      "metadata": {
        "id": "b7X17bcFjEvF",
        "colab_type": "code",
        "outputId": "c55aee06-59de-42e9-9cf9-f8fc8adf9ddd",
        "colab": {
          "base_uri": "https://localhost:8080/",
          "height": 33
        }
      },
      "source": [
        "# vocab - list; len - 54664; \n",
        "#vocabcount - collections.Counter\n",
        "vocab, vocabcount = get_vocab(heads+descs)\n",
        "print(vocab[:10])"
      ],
      "execution_count": 0,
      "outputs": [
        {
          "output_type": "stream",
          "text": [
            "['в', 'и', 'на', '-', 'по', 'с', 'что', 'не', 'риа', 'из']\n"
          ],
          "name": "stdout"
        }
      ]
    },
    {
      "cell_type": "code",
      "metadata": {
        "id": "yG56nznrjKQl",
        "colab_type": "code",
        "colab": {}
      },
      "source": [
        "empty = 0 # Индекс элемента, которого нет в вокабе\n",
        "eos = 1  # Индекс конца предложения\n",
        "start_idx = eos+1 # Индекс первого частотного элемента в\n",
        "def get_idx(vocab, vocabcount):\n",
        "    word2idx = dict((word, idx+start_idx) for idx,word in enumerate(vocab))\n",
        "    word2idx['<empty>'] = empty\n",
        "    word2idx['<eos>'] = eos\n",
        "    \n",
        "    idx2word = dict((idx,word) for word,idx in word2idx.items())\n",
        "\n",
        "    return word2idx, idx2word"
      ],
      "execution_count": 0,
      "outputs": []
    },
    {
      "cell_type": "code",
      "metadata": {
        "id": "lUJjUF1ukaMh",
        "colab_type": "code",
        "colab": {}
      },
      "source": [
        "#Словари, word2idx - каждому слову из вокаба ключ, idx2word - наоборот\n",
        "word2idx, idx2word = get_idx(vocab, vocabcount)"
      ],
      "execution_count": 0,
      "outputs": []
    },
    {
      "cell_type": "markdown",
      "metadata": {
        "id": "-KcG4livlUUt",
        "colab_type": "text"
      },
      "source": [
        "##Эмбединги"
      ]
    },
    {
      "cell_type": "markdown",
      "metadata": {
        "id": "htx7e1uW01rm",
        "colab_type": "text"
      },
      "source": [
        "В исходной версии использовались GloVe эмбеддинги. Но они не подходят для русского языка, поэтому были заменены."
      ]
    },
    {
      "cell_type": "code",
      "metadata": {
        "id": "38XN7bFywk_w",
        "colab_type": "code",
        "colab": {}
      },
      "source": [
        "#Длина этой штуки - 2миллиона. Попробуем обойтись 150к.\n",
        "#Источник: https://fasttext.cc/docs/en/crawl-vectors.html\n",
        "def load_vectors(fname):\n",
        "  with open(fname, 'r', encoding='utf-8', newline='\\n', errors='ignore') as file:\n",
        "    data = {}\n",
        "    for line in file.readlines()[:170001]:\n",
        "      tokens = line.rstrip().split(' ')\n",
        "      data[tokens[0]] = list(map(float, tokens[1:101]))\n",
        "  return data\n",
        "embeddings = load_vectors('cc.ru.300.vec')      "
      ],
      "execution_count": 0,
      "outputs": []
    },
    {
      "cell_type": "code",
      "metadata": {
        "id": "7C45_vhPzfw1",
        "colab_type": "code",
        "outputId": "892f10d4-553a-4221-c436-9d794e5086e4",
        "colab": {
          "base_uri": "https://localhost:8080/",
          "height": 33
        }
      },
      "source": [
        "embedding_dim = len(embeddings['!']) #100\n",
        "emb_symbols = len(embeddings)\n",
        "embedding_dim, emb_symbols, type(embeddings)"
      ],
      "execution_count": 0,
      "outputs": [
        {
          "output_type": "execute_result",
          "data": {
            "text/plain": [
              "(100, 170000, dict)"
            ]
          },
          "metadata": {
            "tags": []
          },
          "execution_count": 17
        }
      ]
    },
    {
      "cell_type": "code",
      "metadata": {
        "id": "fHPWpWax1YhS",
        "colab_type": "code",
        "colab": {}
      },
      "source": [
        "#Если раньше был словарь, то теперь мы создаем двумерный массив. Строки - столва, столбцы - их веса. \n",
        "#Параллельно создем словарь эмбединга и его индекса\n",
        "emb_index_dict = {}\n",
        "emb_weights = np.empty((emb_symbols, embedding_dim))\n",
        "globale_scale=.1\n",
        "with open('cc.ru.300.vec', 'r', encoding = 'utf-8') as file:\n",
        "    i = 0\n",
        "    for line in file.readlines()[:150000]:\n",
        "        line = line.strip().split()\n",
        "        word = line[0]\n",
        "        emb_index_dict[word] = i\n",
        "        emb_weights[i,:] = list(map(float,line[1:101]))\n",
        "        i += 1\n",
        "emb_weights *= globale_scale"
      ],
      "execution_count": 0,
      "outputs": []
    },
    {
      "cell_type": "code",
      "metadata": {
        "id": "0FgxyVeD35Ir",
        "colab_type": "code",
        "outputId": "812b1dee-82bf-4d5d-d657-27e6af3ac287",
        "colab": {
          "base_uri": "https://localhost:8080/",
          "height": 50
        }
      },
      "source": [
        "# generate random embedding with same scale as fasttext\n",
        "np.random.seed(seed)\n",
        "shape = (vocab_size, embedding_dim)\n",
        "scale = emb_weights.std()*np.sqrt(12)/2 # uniform and not normal\n",
        "embedding = np.random.uniform(low=-scale, high=scale, size=shape)\n",
        "print('random-embedding/fast scale', scale, 'std', embedding.std())\n",
        "\n",
        "# copy from fasttext weights of words that appear in our short vocabulary (idx2word)\n",
        "c = 0\n",
        "for i in range(vocab_size):\n",
        "    word = idx2word[i]\n",
        "    emb = emb_index_dict.get(word, emb_index_dict.get(word.lower()))\n",
        "    if emb is None and word.startswith('#'): # fasttext has no hastags (I think...)\n",
        "        word = word[1:]\n",
        "        emb = emb_index_dict.get(word, emb_index_dict.get(wrod.lower()))\n",
        "    if emb is not None:\n",
        "        embedding[i,:] = emb_weights[emb,:]\n",
        "        c+=1\n",
        "print('number of tokens, in small vocab, found in fasttext and copied to embedding', c,c/float(vocab_size))"
      ],
      "execution_count": 0,
      "outputs": [
        {
          "output_type": "stream",
          "text": [
            "random-embedding/glove scale 0.12656270393505048 std 0.0730401738893406\n",
            "number of tokens, in small vocab, found in fasttext and copied to embedding 14420 0.721\n"
          ],
          "name": "stdout"
        }
      ]
    },
    {
      "cell_type": "code",
      "metadata": {
        "id": "j6497Jml4vs4",
        "colab_type": "code",
        "colab": {}
      },
      "source": [
        "#У нас есть  слова, которые не перенесены в матрицу. Найдем им ближайший аналог по косинусному расстоянию и перенесем. \n",
        "# Работаем с word2idx, которые не в  vocab_size\n",
        "glove_thr = 0.5\n",
        "word2emb = {}\n",
        "for word in word2idx:\n",
        "    if word in emb_index_dict:\n",
        "        emb = word\n",
        "    elif word.lower() in emb_index_dict:\n",
        "        emb = word.lower()\n",
        "    elif word.startswith('#') and word[1:] in emb_index_dict:\n",
        "        emb = word[1:]\n",
        "    elif word.startswith('#') and word[1:].lower() in emb_index_dict:\n",
        "        emb = word[1:].lower()\n",
        "    else:\n",
        "        continue\n",
        "    word2emb[word] = emb"
      ],
      "execution_count": 0,
      "outputs": []
    },
    {
      "cell_type": "code",
      "metadata": {
        "id": "miMiSygm440-",
        "colab_type": "code",
        "outputId": "c2e473b8-3531-4d1d-f5d6-09aebae2da8e",
        "colab": {
          "base_uri": "https://localhost:8080/",
          "height": 33
        }
      },
      "source": [
        "#for every word outside the embedding matrix find the closest word inside the mebedding matrix. \n",
        "#Use cos distance of vectors.\n",
        "#Allow for the last nb_unknown_words words inside the embedding matrix to be considered to be outside. \n",
        "#Dont accept distances below glove_thr\n",
        "normed_embedding = embedding/np.array([np.sqrt(np.dot(emb_weight,emb_weight)) for emb_weight in embedding])[:,None]\n",
        "nb_unknown_words = 100\n",
        "\n",
        "emb_match = []\n",
        "for word,idx in word2idx.items():\n",
        "    if idx >= vocab_size-nb_unknown_words and word.isalpha() and word in word2emb:\n",
        "        emb_idx = emb_index_dict[word2emb[word]]\n",
        "        emb_weight = emb_weights[emb_idx,:].copy()\n",
        "        # find row in embedding that has the highest cos score with gweight\n",
        "        emb_weight /= np.sqrt(np.dot(emb_weight,emb_weight))\n",
        "        score = np.dot(normed_embedding[:vocab_size-nb_unknown_words], emb_weight)\n",
        "        while True:\n",
        "            embedding_idx = score.argmax()\n",
        "            s = score[embedding_idx]\n",
        "            if s < glove_thr:\n",
        "                break\n",
        "            if idx2word[embedding_idx] in word2emb:\n",
        "                emb_match.append((word, embedding_idx, s)) \n",
        "                break\n",
        "            score[embedding_idx] = -1\n",
        "emb_match.sort(key = lambda x: -x[2])\n",
        "print('# of fasttext substitutes found', len(emb_match))"
      ],
      "execution_count": 0,
      "outputs": [
        {
          "output_type": "stream",
          "text": [
            "# of glove substitutes found 56179\n"
          ],
          "name": "stdout"
        }
      ]
    },
    {
      "cell_type": "code",
      "metadata": {
        "id": "feWF_GJr6p1Z",
        "colab_type": "code",
        "outputId": "602ff26c-3ec3-4e6c-ce63-7dcd0c41a651",
        "colab": {
          "base_uri": "https://localhost:8080/",
          "height": 184
        }
      },
      "source": [
        "#Тут у нас показаны худшие замены. \n",
        "for orig, sub, score in emb_match[-10:]:\n",
        "    print(score, orig,'=>', idx2word[sub])"
      ],
      "execution_count": 0,
      "outputs": [
        {
          "output_type": "stream",
          "text": [
            "0.5000698180980557 историография => история\n",
            "0.500054486516199 подлокотниками => кресло\n",
            "0.500040676640964 орнаментов => лекарств\n",
            "0.5000392520931467 бирки => паспортов\n",
            "0.5000371847645277 смет => цен\n",
            "0.500030476347529 абразивный => металлургический\n",
            "0.5000231033417443 волшебника => ангела\n",
            "0.5000168163243389 ловушку => панику\n",
            "0.5000039165661512 танке => газе\n",
            "0.5000004264227934 скотч => ленты\n"
          ],
          "name": "stdout"
        }
      ]
    },
    {
      "cell_type": "code",
      "metadata": {
        "id": "DMUmsyVK676e",
        "colab_type": "code",
        "colab": {}
      },
      "source": [
        "#build a lookup table of index of outside words to index of inside words\n",
        "emb_idx2idx = dict((word2idx[word],embedding_idx) for  word, embedding_idx, _ in emb_match)"
      ],
      "execution_count": 0,
      "outputs": []
    },
    {
      "cell_type": "markdown",
      "metadata": {
        "id": "prAa707K7Gm1",
        "colab_type": "text"
      },
      "source": [
        "#  3. Подготавливаем модель"
      ]
    },
    {
      "cell_type": "code",
      "metadata": {
        "id": "h7DbWPu27JbV",
        "colab_type": "code",
        "outputId": "96cdc408-dca5-4f26-c100-22d9664c5fc5",
        "colab": {
          "base_uri": "https://localhost:8080/",
          "height": 33
        }
      },
      "source": [
        "#Y - Заголовок\n",
        "#Х - Статья\n",
        "# Теперь мы работаем с индексами всего и вся\n",
        "Y = [[word2idx[token] for token in headline.split()] for headline in heads]\n",
        "X = [[word2idx[token] for token in d.split()] for d in descs]\n",
        "len(X),len(Y), len(X[1]), len(Y[1])"
      ],
      "execution_count": 0,
      "outputs": [
        {
          "output_type": "execute_result",
          "data": {
            "text/plain": [
              "(50000, 50000, 169, 11)"
            ]
          },
          "metadata": {
            "tags": []
          },
          "execution_count": 24
        }
      ]
    },
    {
      "cell_type": "code",
      "metadata": {
        "id": "s7ZKEazN7WAB",
        "colab_type": "code",
        "colab": {}
      },
      "source": [
        "maxlend=50 # 0 - if we dont want to use description at all\n",
        "maxlenh=25 \n",
        "maxlen = maxlend + maxlenh\n",
        "rnn_size = 512 # must be same as 160330-word-gen\n",
        "rnn_layers = 3  # match FN1\n",
        "batch_norm=False \n",
        "activation_rnn_size = 40 if maxlend else 0"
      ],
      "execution_count": 0,
      "outputs": []
    },
    {
      "cell_type": "code",
      "metadata": {
        "id": "MSirnIG88gkk",
        "colab_type": "code",
        "colab": {}
      },
      "source": [
        "# training parameters\n",
        "#seed=42\n",
        "p_W, p_U, p_dense, weight_decay = 0, 0, 0.4, 0\n",
        "optimizer = 'adam'\n",
        "LR = 1e-4#4\n",
        "batch_size=64\n",
        "nflips=5 #Сколько будет заменено в заголовке нашими словами"
      ],
      "execution_count": 0,
      "outputs": []
    },
    {
      "cell_type": "code",
      "metadata": {
        "id": "-wvtbIHX8s02",
        "colab_type": "code",
        "colab": {}
      },
      "source": [
        "nb_unknown_words = 10\n",
        "nb_train_samples = 20000\n",
        "nb_val_samples = 3000\n",
        "embedding_size = embedding_dim"
      ],
      "execution_count": 0,
      "outputs": []
    },
    {
      "cell_type": "code",
      "metadata": {
        "id": "NsUjveKw805d",
        "colab_type": "code",
        "outputId": "1650b93b-35c6-4354-c745-89957a3a0ebb",
        "colab": {
          "base_uri": "https://localhost:8080/",
          "height": 117
        }
      },
      "source": [
        "print('number of examples',len(X),len(Y))\n",
        "print('dimension of embedding space for words',embedding_size)\n",
        "print('vocabulary size', vocab_size, 'the last %d words can be used as place holders for unknown/oov words'%nb_unknown_words)\n",
        "print('total number of different words',len(idx2word), len(word2idx))\n",
        "print('number of words outside vocabulary which we can substitue using fasttext similarity', len(emb_idx2idx))\n",
        "print('number of words that will be regarded as unknonw(unk)/out-of-vocabulary(oov)',len(idx2word)-vocab_size-len(emb_idx2idx))"
      ],
      "execution_count": 0,
      "outputs": [
        {
          "output_type": "stream",
          "text": [
            "number of examples 50000 50000\n",
            "dimension of embedding space for words 100\n",
            "vocabulary size 20000 the last 10 words can be used as place holders for unknown/oov words\n",
            "total number of different words 628287 628287\n",
            "number of words outside vocabulary which we can substitue using fasttext similarity 56179\n",
            "number of words that will be regarded as unknonw(unk)/out-of-vocabulary(oov) 552108\n"
          ],
          "name": "stdout"
        }
      ]
    },
    {
      "cell_type": "code",
      "metadata": {
        "id": "F60dC6Y89McQ",
        "colab_type": "code",
        "colab": {}
      },
      "source": [
        "for i in range(nb_unknown_words):\n",
        "    idx2word[vocab_size-1-i] = '<%d>'%i\n",
        "oov0 = vocab_size-nb_unknown_words\n",
        "for i in range(oov0, len(idx2word)):\n",
        "    idx2word[i] = idx2word[i]+'^'"
      ],
      "execution_count": 0,
      "outputs": []
    },
    {
      "cell_type": "code",
      "metadata": {
        "id": "H7MKgHDs9flb",
        "colab_type": "code",
        "outputId": "fef4ec67-bc58-4436-9e7c-336348ef09c2",
        "colab": {
          "base_uri": "https://localhost:8080/",
          "height": 33
        }
      },
      "source": [
        "from sklearn.model_selection import train_test_split\n",
        "X_train, X_test, Y_train, Y_test = train_test_split(X, Y, test_size=nb_val_samples, random_state=seed)\n",
        "len(X_train), len(Y_train), len(X_test), len(Y_test)"
      ],
      "execution_count": 0,
      "outputs": [
        {
          "output_type": "execute_result",
          "data": {
            "text/plain": [
              "(47000, 47000, 3000, 3000)"
            ]
          },
          "metadata": {
            "tags": []
          },
          "execution_count": 30
        }
      ]
    },
    {
      "cell_type": "code",
      "metadata": {
        "id": "avbUg_j29i0v",
        "colab_type": "code",
        "colab": {}
      },
      "source": [
        "del X\n",
        "del Y"
      ],
      "execution_count": 0,
      "outputs": []
    },
    {
      "cell_type": "code",
      "metadata": {
        "id": "R0Hp4ecL9mia",
        "colab_type": "code",
        "colab": {}
      },
      "source": [
        "#empty = 0\n",
        "#eos = 1\n",
        "idx2word[empty] = '_'\n",
        "idx2word[eos] = '~'"
      ],
      "execution_count": 0,
      "outputs": []
    },
    {
      "cell_type": "code",
      "metadata": {
        "id": "s62I0PRU9peO",
        "colab_type": "code",
        "colab": {}
      },
      "source": [
        "def prt(label, x):\n",
        "    print(label+':', end=' ')\n",
        "    for w in x:\n",
        "        print(idx2word[w], end=' ')\n",
        "    print()"
      ],
      "execution_count": 0,
      "outputs": []
    },
    {
      "cell_type": "code",
      "metadata": {
        "id": "lDZakB039r5u",
        "colab_type": "code",
        "outputId": "d10e903d-35a1-4209-df7d-9f5ae28d6897",
        "colab": {
          "base_uri": "https://localhost:8080/",
          "height": 70
        }
      },
      "source": [
        "i = 100\n",
        "prt('H',Y_train[i])\n",
        "prt('D',X_train[i])"
      ],
      "execution_count": 0,
      "outputs": [
        {
          "output_type": "stream",
          "text": [
            "H: \"газпром\" хочет стать крупнейшим топливным^ поставщиком великобритании \n",
            "D: москва, 28 мар - риа новости. \"газпром\" ведет подготовку для участия в аукционе на покупку сотен топливозаправочных^ станций и нефтезавода^ в великобритании, пишет в воскресенье британская газета sunday^ times. как сообщает издание, в ближайшие дни компания подаст^ свою заявку на покупку 800 бензоколонок^ и завода по переработке нефти линдсей^ (lindsey)^ в киллинхолме^ (killingholme),^ расположенном в графстве^ линкольншир.^ активы были выставлены на продажу французской нефтегазовой компанией total,^ которая в свою очередь, наняла^ инвестиционный банк jp^ morgan^ для продажи бизнеса в великобритании, где задействованы пять тысяч рабочих мест. прогнозируемая^ стоимость активов более одного миллиарда фунтов стерлингов. по данным газеты, \"газпром\" будет покупать активы total через свое нефтяное^ подразделение оао \"газпром нефть\".^ total включил в продажу также 247^ километровый^ подземный нефтепровод^ от линдсея^ к нефтехранилищу^ buncefield,^ расположенному^ близ лондона и которое обслуживает топливом^ юго-восток^ англии и аэропорт хитроу.^ в торгах будут участвовать индийская компания essar^ oil и американская нефтяная компания valero^ energy.^ если \"газпром\" купит^ британский бизнес total,^ то российский нефтегазовый^ гигант^ станет крупнейшим топливным^ поставщиком в великобритании, что может вызвать беспокойство у британского правительства, отмечает газета. риа новости не располагают комментариями \"газпрома\".^ \n"
          ],
          "name": "stdout"
        }
      ]
    },
    {
      "cell_type": "code",
      "metadata": {
        "id": "UQ6Ie5NfHtXN",
        "colab_type": "code",
        "outputId": "2515e174-4026-4566-cfea-bec74f8c54a8",
        "colab": {
          "base_uri": "https://localhost:8080/",
          "height": 70
        }
      },
      "source": [
        "i = 100\n",
        "prt('H',Y_test[i])\n",
        "prt('D',X_test[i])"
      ],
      "execution_count": 0,
      "outputs": [
        {
          "output_type": "stream",
          "text": [
            "H: правитель^ дубая открыл самый высокий небоскреб^ в мире \n",
            "D: дубай,^ 4 янв - риа новости, денис малков.^ самое высокое здание в мире, побившее^ мировые рекорды по высоте и количеству этажей,^ открылось^ в дубае,^ передает корреспондент риа новости в понедельник. правитель^ эмирата^ дубай,^ нынешний вице-президент и премьер-министр оаэ шейх^ мухаммед бен рашед^ аль мактум,^ открывая 828-метровый^ небоскреб,^ известный во всем мире под названием \"бурдж^ дубай\"^ (\"дубайская^ башня\"),^ переименовал^ его, посвятив^ здание президенту оаэ шейху^ халифе^ бен заиду^ аль нахайяну.^ \"отныне^ и навсегда эта башня будет носить имя \"халифа\"^ - \"бурдж^ халифа\",^ - сказал он. башня в дубае вернет^ на ближний восток рекорд высотного^ строительства церемония открытия приурочена к четвертой годовщине с того момента, как аль мактум^ стал правителем^ эмирата^ дубай.^ его называют главным вдохновителем^ \"дубайского^ чуда\",^ превратившего^ дубай в самый быстрорастущий^ город на планете.^ переименование^ небоскреба^ символизирует^ единство объединенных арабских эмиратов,^ которое особенно проявилось^ в тяжелый период, когда экономика эмиратов^ подверглась^ влиянию^ мирового финансового-экономического^ кризиса, считает теодор^ карасик,^ директор отдела исследований института военного анализа ближнего востока и персидского залива,^ находящегося в дубае.^ \"это очень хороший сигнал,^ это значит, что абу-даби и дубай работают вместе над исправлением^ ситуации, в которой оказались эмираты\",^ - сказал карасик^ риа новости в понедельник. в конце ноября дубайский^ госфонд^ dubai^ world попросил у кредиторов полугодовую^ отсрочку^ выплат по долгу,^ что привело к панике^ на мировых биржах и чуть было не спровоцировало вторую волну кризиса. напряженность^ несколько спала^ после известия^ о получении правительством дубая помощи от столичного эмирата^ абу-даби, правителем^ которого является президент оаэ,^ в размере 10 миллиардов долларов. дубай:^ зыбучие^ пески^ бума^ сейчас компания ведет переговоры с инвесторами по реструктуризации задолженности.^ по оценкам экспертов s p,^ холдинг dubai^ world в последующие три года должен выплатить приблизительно 50 миллиардов долларов, что составляет около 70% ввп всего эмирата^ дубай.^ \n"
          ],
          "name": "stdout"
        }
      ]
    },
    {
      "cell_type": "markdown",
      "metadata": {
        "id": "3M44Hfzg90tD",
        "colab_type": "text"
      },
      "source": [
        "## Модель"
      ]
    },
    {
      "cell_type": "code",
      "metadata": {
        "id": "Ezfj6XRN92g6",
        "colab_type": "code",
        "colab": {}
      },
      "source": [
        "from keras.models import Sequential\n",
        "from keras.layers.core import Dense, Activation, Dropout, RepeatVector\n",
        "from keras.layers.wrappers import TimeDistributed\n",
        "from keras.layers.recurrent import LSTM\n",
        "from keras.layers.embeddings import Embedding\n",
        "from keras.regularizers import l2\n",
        "# seed weight initialization\n",
        "random.seed(seed)\n",
        "np.random.seed(seed)"
      ],
      "execution_count": 0,
      "outputs": []
    },
    {
      "cell_type": "code",
      "metadata": {
        "id": "6tXoLDxB99z2",
        "colab_type": "code",
        "colab": {}
      },
      "source": [
        "regularizer = l2(weight_decay) if weight_decay else None"
      ],
      "execution_count": 0,
      "outputs": []
    },
    {
      "cell_type": "code",
      "metadata": {
        "id": "DBs68aBekbe4",
        "colab_type": "code",
        "outputId": "b8d9cdcf-09ee-46ac-c558-716de8edda9a",
        "colab": {
          "base_uri": "https://localhost:8080/",
          "height": 33
        }
      },
      "source": [
        "type(embedding), type(embeddings)"
      ],
      "execution_count": 0,
      "outputs": [
        {
          "output_type": "execute_result",
          "data": {
            "text/plain": [
              "(numpy.ndarray, dict)"
            ]
          },
          "metadata": {
            "tags": []
          },
          "execution_count": 38
        }
      ]
    },
    {
      "cell_type": "code",
      "metadata": {
        "id": "PHT6dKK4-B0f",
        "colab_type": "code",
        "outputId": "b53e6e25-6467-4a61-a3d7-2e1331d28eb6",
        "colab": {
          "base_uri": "https://localhost:8080/",
          "height": 137
        }
      },
      "source": [
        "model = Sequential()\n",
        "model.add(Embedding(vocab_size, embedding_size,\n",
        "                    input_length=maxlen,\n",
        "                    embeddings_regularizer=regularizer, weights=[embedding], mask_zero=True,\n",
        "                    name='embedding_1'))\n",
        "\n",
        "for i in range(rnn_layers):\n",
        "    lstm = LSTM(rnn_size, return_sequences=True,  #batch_norm=batch_norm,\n",
        "                kernel_regularizer=regularizer, recurrent_regularizer=regularizer,\n",
        "                bias_regularizer=regularizer, dropout=p_W, recurrent_dropout=p_U,\n",
        "                name='lstm_%d'%(i+1)\n",
        "                  )\n",
        "    model.add(lstm)\n",
        "    model.add(Dropout(p_dense,name='dropout_%d'%(i+1)))"
      ],
      "execution_count": 0,
      "outputs": [
        {
          "output_type": "stream",
          "text": [
            "WARNING:tensorflow:From /usr/local/lib/python3.6/dist-packages/tensorflow/python/framework/op_def_library.py:263: colocate_with (from tensorflow.python.framework.ops) is deprecated and will be removed in a future version.\n",
            "Instructions for updating:\n",
            "Colocations handled automatically by placer.\n",
            "WARNING:tensorflow:From /usr/local/lib/python3.6/dist-packages/keras/backend/tensorflow_backend.py:3445: calling dropout (from tensorflow.python.ops.nn_ops) with keep_prob is deprecated and will be removed in a future version.\n",
            "Instructions for updating:\n",
            "Please use `rate` instead of `keep_prob`. Rate should be set to `rate = 1 - keep_prob`.\n"
          ],
          "name": "stdout"
        }
      ]
    },
    {
      "cell_type": "code",
      "metadata": {
        "id": "jJdfkJFF-JZ3",
        "colab_type": "code",
        "colab": {}
      },
      "source": [
        "from keras.layers.core import Lambda\n",
        "import keras.backend as K\n",
        "import tensorflow as tf\n",
        "\n",
        "def simple_context(X, mask, n=activation_rnn_size, maxlend=maxlend, maxlenh=maxlenh):\n",
        "    desc, head = X[:,:maxlend,:], X[:,maxlend:,:]\n",
        "    head_activations, head_words = head[:,:,:n], head[:,:,n:]\n",
        "    desc_activations, desc_words = desc[:,:,:n], desc[:,:,n:]\n",
        "    \n",
        "    # RTFM http://deeplearning.net/software/theano/library/tensor/basic.html#theano.tensor.batched_tensordot\n",
        "    # activation for every head word and every desc word\n",
        "    activation_energies = K.batch_dot(head_activations, desc_activations, axes=(2,2))\n",
        "    # make sure we dont use description words that are masked out\n",
        "    activation_energies = activation_energies + -1e20*K.expand_dims(1.-K.cast(mask[:, :maxlend],'float32'),1)\n",
        "    \n",
        "    # for every head word compute weights for every desc word\n",
        "    activation_energies = K.reshape(activation_energies,(-1,maxlend))\n",
        "    activation_weights = K.softmax(activation_energies)\n",
        "    activation_weights = K.reshape(activation_weights,(-1,maxlenh,maxlend))\n",
        "\n",
        "    # for every head word compute weighted average of desc words\n",
        "    desc_avg_word = K.batch_dot(activation_weights, desc_words, axes=(2,1))\n",
        "    return K.concatenate((desc_avg_word, head_words))\n",
        "\n",
        "def perplexity(y_true, y_pred):\n",
        "\n",
        "  cross_entropy = K.categorical_crossentropy(y_true, y_pred)\n",
        "  perplexity = K.exp(cross_entropy)\n",
        "  return perplexity\n",
        "\n",
        "#import nltk\n",
        "#from nltk.translate.bleu_score import sentence_bleu\n",
        "#def bleu(y_true, y_pred):\n",
        "#  return sentence_bleu([K.print_tensor(y_true)], K.print_tensor(y_pred))"
      ],
      "execution_count": 0,
      "outputs": []
    },
    {
      "cell_type": "code",
      "metadata": {
        "id": "_XVTymaU-XFf",
        "colab_type": "code",
        "colab": {}
      },
      "source": [
        "if activation_rnn_size:\n",
        "    model.add(Lambda(simple_context,\n",
        "                     mask = lambda inputs, mask: mask[:,maxlend:],\n",
        "                     output_shape = lambda input_shape: (input_shape[0], maxlenh, 2*(rnn_size - activation_rnn_size)),\n",
        "                     name='simplecontext_1'))\n",
        "model.add(TimeDistributed(Dense(vocab_size,\n",
        "                                kernel_regularizer=regularizer, bias_regularizer=regularizer,\n",
        "                                name = 'timedistributed_1')))\n",
        "model.add(Activation('softmax', name='softmax'))\n"
      ],
      "execution_count": 0,
      "outputs": []
    },
    {
      "cell_type": "code",
      "metadata": {
        "id": "df_Spc8zmkft",
        "colab_type": "code",
        "outputId": "291efb9b-3a34-4352-f84c-f836172d4a94",
        "colab": {
          "base_uri": "https://localhost:8080/",
          "height": 33
        }
      },
      "source": [
        "model.output_shape"
      ],
      "execution_count": 0,
      "outputs": [
        {
          "output_type": "execute_result",
          "data": {
            "text/plain": [
              "(None, 25, 20000)"
            ]
          },
          "metadata": {
            "tags": []
          },
          "execution_count": 42
        }
      ]
    },
    {
      "cell_type": "code",
      "metadata": {
        "id": "K24zMqPm-ZRX",
        "colab_type": "code",
        "colab": {}
      },
      "source": [
        "from keras.optimizers import Adam, RMSprop # usually I prefer Adam but article used rmsprop\n",
        "opt = Adam(lr=LR)  # keep calm and reduce learning rate\n",
        "model.compile(loss='categorical_crossentropy', optimizer=opt, metrics=['accuracy', perplexity])"
      ],
      "execution_count": 0,
      "outputs": []
    },
    {
      "cell_type": "code",
      "metadata": {
        "id": "oj9csZNS-kox",
        "colab_type": "code",
        "colab": {}
      },
      "source": [
        "K.set_value(model.optimizer.lr,np.float32(LR))"
      ],
      "execution_count": 0,
      "outputs": []
    },
    {
      "cell_type": "code",
      "metadata": {
        "id": "UZsrt2aZ-n0z",
        "colab_type": "code",
        "outputId": "12726f5d-ff8b-4d44-960a-ab1c18a777a7",
        "colab": {
          "base_uri": "https://localhost:8080/",
          "height": 468
        }
      },
      "source": [
        "model.summary()"
      ],
      "execution_count": 0,
      "outputs": [
        {
          "output_type": "stream",
          "text": [
            "_________________________________________________________________\n",
            "Layer (type)                 Output Shape              Param #   \n",
            "=================================================================\n",
            "embedding_1 (Embedding)      (None, 75, 100)           2000000   \n",
            "_________________________________________________________________\n",
            "lstm_1 (LSTM)                (None, 75, 512)           1255424   \n",
            "_________________________________________________________________\n",
            "dropout_1 (Dropout)          (None, 75, 512)           0         \n",
            "_________________________________________________________________\n",
            "lstm_2 (LSTM)                (None, 75, 512)           2099200   \n",
            "_________________________________________________________________\n",
            "dropout_2 (Dropout)          (None, 75, 512)           0         \n",
            "_________________________________________________________________\n",
            "lstm_3 (LSTM)                (None, 75, 512)           2099200   \n",
            "_________________________________________________________________\n",
            "dropout_3 (Dropout)          (None, 75, 512)           0         \n",
            "_________________________________________________________________\n",
            "simplecontext_1 (Lambda)     (None, 25, 944)           0         \n",
            "_________________________________________________________________\n",
            "time_distributed_1 (TimeDist (None, 25, 20000)         18900000  \n",
            "_________________________________________________________________\n",
            "softmax (Activation)         (None, 25, 20000)         0         \n",
            "=================================================================\n",
            "Total params: 26,353,824\n",
            "Trainable params: 26,353,824\n",
            "Non-trainable params: 0\n",
            "_________________________________________________________________\n"
          ],
          "name": "stdout"
        }
      ]
    },
    {
      "cell_type": "markdown",
      "metadata": {
        "id": "JdG59DAq-2zb",
        "colab_type": "text"
      },
      "source": [
        "# 4. Тестируем и обучаем"
      ]
    },
    {
      "cell_type": "markdown",
      "metadata": {
        "id": "bWJxrBXK_cFq",
        "colab_type": "text"
      },
      "source": [
        "## Генерируем данные"
      ]
    },
    {
      "cell_type": "code",
      "metadata": {
        "id": "X5q1ckbu-51l",
        "colab_type": "code",
        "colab": {}
      },
      "source": [
        "def lpadd(x, maxlend=maxlend, eos=eos):\n",
        "    \"\"\"left (pre) pad a description to maxlend and then add eos.\n",
        "    The eos is the input to predicting the first word in the headline\n",
        "    \"\"\"\n",
        "    assert maxlend >= 0\n",
        "    if maxlend == 0:\n",
        "        return [eos]\n",
        "    n = len(x)\n",
        "    if n > maxlend:\n",
        "        x = x[-maxlend:]\n",
        "        n = maxlend\n",
        "    return [empty]*(maxlend-n) + x + [eos]\n",
        "\n",
        "samples = [lpadd([3]*26)]\n",
        "# pad from right (post) so the first maxlend will be description followed by headline\n",
        "data = sequence.pad_sequences(samples, maxlen=maxlen, value=empty, padding='post', truncating='post')"
      ],
      "execution_count": 0,
      "outputs": []
    },
    {
      "cell_type": "code",
      "metadata": {
        "id": "gD9tdSg2_RcN",
        "colab_type": "code",
        "outputId": "6562af7b-e0bf-4bbc-be86-331c9b96e373",
        "colab": {
          "base_uri": "https://localhost:8080/",
          "height": 33
        }
      },
      "source": [
        "np.all(data[:,maxlend] == eos)"
      ],
      "execution_count": 0,
      "outputs": [
        {
          "output_type": "execute_result",
          "data": {
            "text/plain": [
              "True"
            ]
          },
          "metadata": {
            "tags": []
          },
          "execution_count": 47
        }
      ]
    },
    {
      "cell_type": "code",
      "metadata": {
        "id": "smUMpn0t_UGe",
        "colab_type": "code",
        "outputId": "1b4a0c6e-3ce6-4246-81f0-6fb835891c86",
        "colab": {
          "base_uri": "https://localhost:8080/",
          "height": 33
        }
      },
      "source": [
        "data.shape, list(map(len, samples))"
      ],
      "execution_count": 0,
      "outputs": [
        {
          "output_type": "execute_result",
          "data": {
            "text/plain": [
              "((1, 75), [51])"
            ]
          },
          "metadata": {
            "tags": []
          },
          "execution_count": 48
        }
      ]
    },
    {
      "cell_type": "code",
      "metadata": {
        "id": "guSYamCL_WRX",
        "colab_type": "code",
        "outputId": "9b75fc87-6bf3-40b5-d14c-91ff5635ed92",
        "colab": {
          "base_uri": "https://localhost:8080/",
          "height": 33
        }
      },
      "source": [
        "probs = model.predict(data, verbose=0, batch_size=1)\n",
        "probs.shape"
      ],
      "execution_count": 0,
      "outputs": [
        {
          "output_type": "execute_result",
          "data": {
            "text/plain": [
              "(1, 25, 20000)"
            ]
          },
          "metadata": {
            "tags": []
          },
          "execution_count": 49
        }
      ]
    },
    {
      "cell_type": "code",
      "metadata": {
        "id": "QOTiHhIG_kSL",
        "colab_type": "code",
        "colab": {}
      },
      "source": [
        "def flip_headline(x, nflips=None, model=None, debug=False):\n",
        "    \"\"\"given a vectorized input (after `pad_sequences`) flip some of the words in the second half (headline)\n",
        "    with words predicted by the model\n",
        "    \"\"\"\n",
        "    if nflips is None or model is None or nflips <= 0:\n",
        "        return x\n",
        "    \n",
        "    batch_size = len(x)\n",
        "    assert np.all(x[:,maxlend] == eos)\n",
        "    probs = model.predict(x, verbose=0, batch_size=batch_size)\n",
        "    x_out = x.copy()\n",
        "    for b in range(batch_size):\n",
        "        # pick locations we want to flip\n",
        "        # 0...maxlend-1 are descriptions and should be fixed\n",
        "        # maxlend is eos and should be fixed\n",
        "        flips = sorted(random.sample(range(maxlend+1,maxlen), nflips))\n",
        "        if debug and b < debug:\n",
        "            print (b)\n",
        "        for input_idx in flips:\n",
        "            if x[b,input_idx] == empty or x[b,input_idx] == eos:\n",
        "                continue\n",
        "            # convert from input location to label location\n",
        "            # the output at maxlend (when input is eos) is feed as input at maxlend+1\n",
        "            label_idx = input_idx - (maxlend+1)\n",
        "            prob = probs[b, label_idx]\n",
        "            w = prob.argmax()\n",
        "            if w == empty:  # replace accidental empty with oov\n",
        "                w = oov0\n",
        "            if debug and b < debug:\n",
        "                print('%s => %s'%(idx2word[x_out[b,input_idx]],idx2word[w]))\n",
        "            x_out[b,input_idx] = w\n",
        "        if debug and b < debug:\n",
        "            print()\n",
        "    return x_out"
      ],
      "execution_count": 0,
      "outputs": []
    },
    {
      "cell_type": "code",
      "metadata": {
        "id": "VD-9AbbP_pk8",
        "colab_type": "code",
        "colab": {}
      },
      "source": [
        "def conv_seq_labels(xds, xhs, nflips=None, model=None, debug=False):\n",
        "    \"\"\"description and hedlines are converted to padded input vectors. headlines are one-hot to label\"\"\"\n",
        "    batch_size = len(xhs)\n",
        "    assert len(xds) == batch_size\n",
        "    x = [vocab_fold(lpadd(xd)+xh) for xd,xh in list(zip(xds,xhs))]  # the input does not have 2nd eos\n",
        "    x = sequence.pad_sequences(x, maxlen=maxlen, value=empty, padding='post', truncating='post')\n",
        "    x = flip_headline(x, nflips=nflips, model=model, debug=debug)\n",
        "    \n",
        "    y = np.zeros((batch_size, maxlenh, vocab_size))\n",
        "    for i, xh in enumerate(xhs):\n",
        "        xh = vocab_fold(xh) + [eos] + [empty]*maxlenh  # output does have a eos at end\n",
        "        xh = xh[:maxlenh]\n",
        "        y[i,:,:] = np_utils.to_categorical(xh, vocab_size)\n",
        "        \n",
        "    return x, y"
      ],
      "execution_count": 0,
      "outputs": []
    },
    {
      "cell_type": "code",
      "metadata": {
        "id": "mP130Nol_xMb",
        "colab_type": "code",
        "colab": {}
      },
      "source": [
        "def gen(Xd, Xh, batch_size=batch_size, nb_batches=None, nflips=None, model=None, debug=False, seed=seed):\n",
        "    \"\"\"yield batches. for training use nb_batches=None\n",
        "    for validation generate deterministic results repeating every nb_batches\n",
        "    \n",
        "    while training it is good idea to flip once in a while the values of the headlines from the\n",
        "    value taken from Xh to value generated by the model.\n",
        "    \"\"\"\n",
        "    c = nb_batches if nb_batches else 0\n",
        "    while True:\n",
        "        xds = []\n",
        "        xhs = []\n",
        "        if nb_batches and c >= nb_batches:\n",
        "            c = 0\n",
        "        new_seed = random.randint(0, sys.maxsize)\n",
        "        random.seed(c+123456789+seed)\n",
        "        for b in range(batch_size):\n",
        "            t = random.randint(0,len(Xd)-1)\n",
        "\n",
        "            xd = Xd[t]\n",
        "            s = random.randint(min(maxlend,len(xd)), max(maxlend,len(xd)))\n",
        "            xds.append(xd[:s])\n",
        "            \n",
        "            xh = Xh[t]\n",
        "            s = random.randint(min(maxlenh,len(xh)), max(maxlenh,len(xh)))\n",
        "            xhs.append(xh[:s])\n",
        "\n",
        "        # undo the seeding before we yield inorder not to affect the caller\n",
        "        c+= 1\n",
        "        random.seed(new_seed)\n",
        "\n",
        "        yield conv_seq_labels(xds, xhs, nflips=nflips, model=model, debug=debug)"
      ],
      "execution_count": 0,
      "outputs": []
    },
    {
      "cell_type": "code",
      "metadata": {
        "id": "IaTrZp35FDef",
        "colab_type": "code",
        "colab": {}
      },
      "source": [
        "def vocab_fold(xs):\n",
        "    \"\"\"convert list of word indexes that may contain words outside vocab_size to words inside.\n",
        "    If a word is outside, try first to use glove_idx2idx to find a similar word inside.\n",
        "    If none exist then replace all accurancies of the same unknown word with <0>, <1>, ...\n",
        "    \"\"\"\n",
        "    xs = [x if x < oov0 else emb_idx2idx.get(x,x) for x in xs]\n",
        "    # the more popular word is <0> and so on\n",
        "    outside = sorted([x for x in xs if x >= oov0])\n",
        "    # if there are more than nb_unknown_words oov words then put them all in nb_unknown_words-1\n",
        "    outside = dict((x,vocab_size-1-min(i, nb_unknown_words-1)) for i, x in enumerate(outside))\n",
        "    xs = [outside.get(x,x) for x in xs]\n",
        "    return xs"
      ],
      "execution_count": 0,
      "outputs": []
    },
    {
      "cell_type": "code",
      "metadata": {
        "id": "BmGJ_71w_0aL",
        "colab_type": "code",
        "outputId": "6a08be10-62a2-48ab-94c1-0e892abd2249",
        "colab": {
          "base_uri": "https://localhost:8080/",
          "height": 33
        }
      },
      "source": [
        "r = next(gen(X_train, Y_train, batch_size=batch_size))\n",
        "r[0].shape, r[1].shape, len(r)"
      ],
      "execution_count": 0,
      "outputs": [
        {
          "output_type": "execute_result",
          "data": {
            "text/plain": [
              "((64, 75), (64, 25, 20000), 2)"
            ]
          },
          "metadata": {
            "tags": []
          },
          "execution_count": 54
        }
      ]
    },
    {
      "cell_type": "code",
      "metadata": {
        "id": "PaooXHqc_46I",
        "colab_type": "code",
        "colab": {}
      },
      "source": [
        "def test_gen(gen, n=5):\n",
        "    Xtr,Ytr = next(gen)\n",
        "    for i in range(n):\n",
        "        assert Xtr[i,maxlend] == eos\n",
        "        x = Xtr[i,:maxlend]\n",
        "        y = Xtr[i,maxlend:]\n",
        "        yy = Ytr[i,:]\n",
        "        yy = np.where(yy)[1]\n",
        "        prt('L',yy)\n",
        "        prt('H',y)\n",
        "        if maxlend:\n",
        "            prt('D',x)"
      ],
      "execution_count": 0,
      "outputs": []
    },
    {
      "cell_type": "code",
      "metadata": {
        "id": "gd1l3o2z_6-Q",
        "colab_type": "code",
        "outputId": "b39e3931-6d54-40cd-9fe6-ba254b0c62f7",
        "colab": {
          "base_uri": "https://localhost:8080/",
          "height": 288
        }
      },
      "source": [
        "test_gen(gen(X_train, Y_train, batch_size=batch_size))"
      ],
      "execution_count": 0,
      "outputs": [
        {
          "output_type": "stream",
          "text": [
            "L: анастасия ~ _ _ _ _ _ _ _ _ _ _ _ _ _ _ _ _ _ _ _ _ _ _ _ \n",
            "H: ~ анастасия _ _ _ _ _ _ _ _ _ _ _ _ _ _ _ _ _ _ _ _ _ _ _ \n",
            "D: _ _ _ _ _ _ _ _ _ _ _ _ _ _ _ _ _ _ _ _ _ _ _ _ _ _ _ _ _ _ _ _ _ _ _ _ _ _ _ примите самые искренние соболезнования. пусть земля будет <1>^ всем трагически <0>^ \n",
            "L: восемь команд сыграют в высшей лиге чемпионата армении по футболу ~ _ _ _ _ _ _ _ _ _ _ _ _ _ _ \n",
            "H: ~ восемь команд сыграют в высшей лиге чемпионата армении по футболу _ _ _ _ _ _ _ _ _ _ _ _ _ _ \n",
            "D: во вторник пресс-служба федерации футбола армении. восемь команд подтвердили свое участие в высшей лиге национального первенства и кубке армении 2010 года. это <2>^ <3>^ <4>^ <5>^ <6>^ <0>^ - <7>^ <8>^ <9>^ <9>^ <9>^ и <9>^ <9>^ говорится в сообщении. самый известный грузинский клуб - <1>^ <9>^ - по итогам \n",
            "L: медведев: россия будет развивать сотрудничество с <0>^ ~ _ _ _ _ _ _ _ _ _ _ _ _ _ _ _ _ _ \n",
            "H: ~ медведев: россия будет развивать сотрудничество с <3>^ _ _ _ _ _ _ _ _ _ _ _ _ _ _ _ _ _ \n",
            "D: и будем развивать <5>^ различные связи с активным нам <1>^ хотели бы, чтобы эти связи <7>^ особенно в контексте самых разных <0>^ которые идут в мире и в нашем <2>^ - сказал медведев во вторник, открывая встречу в кремле с президентом узбекистана <4>^ <6>^ российский президент отметил, что в мире \n",
            "L: <1>^ оон по экономическим вопросам джон <0>^ уйдет в отставку ~ _ _ _ _ _ _ _ _ _ _ _ _ _ _ \n",
            "H: ~ <3>^ оон по экономическим вопросам джон <1>^ уйдет в отставку _ _ _ _ _ _ _ _ _ _ _ _ _ _ \n",
            "D: брифинге в штаб-квартире организации в нью-йорке. по словам <4>^ пока еще не <2>^ кто займет этот один из важнейших постов в руководстве оон. <5>^ <1>^ ранее проинформировал генерального секретаря пан ги муна о своем намерении покинуть пост в связи с тем, что он принял предложение стать директором одного из фондов \n",
            "L: су-27 пропал с экраны камер в 30 км от аэродрома - минобороны ~ _ _ _ _ _ _ _ _ _ _ _ _ \n",
            "H: ~ су-27 пропал с экраны камер в 30 км от аэродрома - минобороны _ _ _ _ _ _ _ _ _ _ _ _ \n",
            "D: _ _ _ _ _ _ _ _ _ _ _ _ _ _ _ _ _ _ _ _ _ _ _ _ _ _ _ _ _ _ _ _ су-27 пропал с экраны камер в 30 километрах от аэродрома в хабаровском крае - минобороны рф. риа новости. \n"
          ],
          "name": "stdout"
        }
      ]
    },
    {
      "cell_type": "markdown",
      "metadata": {
        "id": "nRwQMq5sE4j9",
        "colab_type": "text"
      },
      "source": [
        "## GEN SAMPLES"
      ]
    },
    {
      "cell_type": "code",
      "metadata": {
        "id": "q3zG-4eOE7mY",
        "colab_type": "code",
        "colab": {}
      },
      "source": [
        "# variation to https://github.com/ryankiros/skip-thoughts/blob/master/decoding/search.py\n",
        "def beamsearch(predict, start=[empty]*maxlend + [eos],\n",
        "               k=1, maxsample=maxlen, use_unk=True, empty=empty, eos=eos, temperature=1.0):\n",
        "    \"\"\"return k samples (beams) and their NLL scores, each sample is a sequence of labels,\n",
        "    all samples starts with an `empty` label and end with `eos` or truncated to length of `maxsample`.\n",
        "    You need to supply `predict` which returns the label probability of each sample.\n",
        "    `use_unk` allow usage of `oov` (out-of-vocabulary) label in samples\n",
        "    \"\"\"\n",
        "    def sample(energy, n, temperature=temperature):\n",
        "        \"\"\"sample at most n elements according to their energy\"\"\"\n",
        "        n = min(n,len(energy))\n",
        "        prb = np.exp(-np.array(energy) / temperature )\n",
        "        res = []\n",
        "        for i in range(n):\n",
        "            z = np.sum(prb)\n",
        "            r = np.argmax(np.random.multinomial(1, prb/z, 1))\n",
        "            res.append(r)\n",
        "            prb[r] = 0. # make sure we select each element only once\n",
        "        return res\n",
        "\n",
        "    dead_k = 0 # samples that reached eos\n",
        "    dead_samples = []\n",
        "    dead_scores = []\n",
        "    live_k = 1 # samples that did not yet reached eos\n",
        "    live_samples = [list(start)]\n",
        "    #print(live_samples)\n",
        "    live_scores = [0]\n",
        "\n",
        "    while live_k:\n",
        "        # for every possible live sample calc prob for every possible label \n",
        "        probs = predict(live_samples, empty=empty)\n",
        "        assert vocab_size == probs.shape[1]\n",
        "        # total score for every sample is sum of -log of word prb\n",
        "        cand_scores = np.array(live_scores)[:,None] - np.log(probs)\n",
        "        cand_scores[:,empty] = 1e20\n",
        "        if not use_unk:\n",
        "            for i in range(nb_unknown_words):\n",
        "                cand_scores[:,vocab_size - 1 - i] = 1e20\n",
        "        live_scores = list(cand_scores.flatten())\n",
        "        \n",
        "\n",
        "        # find the best (lowest) scores we have from all possible dead samples and\n",
        "        # all live samples and all possible new words added\n",
        "        scores = dead_scores + live_scores\n",
        "        ranks = sample(scores, k)\n",
        "        n = len(dead_scores)\n",
        "        ranks_dead = [r for r in ranks if r < n]\n",
        "        ranks_live = [r - n for r in ranks if r >= n]\n",
        "        \n",
        "        dead_scores = [dead_scores[r] for r in ranks_dead]\n",
        "        dead_samples = [dead_samples[r] for r in ranks_dead]\n",
        "        \n",
        "        live_scores = [live_scores[r] for r in ranks_live]\n",
        "\n",
        "        # append the new words to their appropriate live sample\n",
        "        voc_size = probs.shape[1]\n",
        "        \n",
        "        live_samples = [live_samples[r//voc_size]+[r%voc_size] for r in ranks_live]\n",
        "\n",
        "        # live samples that should be dead are...\n",
        "        # even if len(live_samples) == maxsample we dont want it dead because we want one\n",
        "        # last prediction out of it to reach a headline of maxlenh\n",
        "        zombie = [s[-1] == eos or len(s) > maxsample for s in live_samples]\n",
        "        \n",
        "        # add zombies to the dead\n",
        "        dead_samples += [s for s,z in list(zip(live_samples,zombie)) if z]\n",
        "        dead_scores += [s for s,z in list(zip(live_scores,zombie)) if z]\n",
        "        dead_k = len(dead_samples)\n",
        "        # remove zombies from the living \n",
        "        live_samples = [s for s,z in list(zip(live_samples,zombie)) if not z]\n",
        "        live_scores = [s for s,z in list(zip(live_scores,zombie)) if not z]\n",
        "        live_k = len(live_samples)\n",
        "\n",
        "    return dead_samples + live_samples, dead_scores + live_scores"
      ],
      "execution_count": 0,
      "outputs": []
    },
    {
      "cell_type": "code",
      "metadata": {
        "id": "V9m4Y9P8FAi6",
        "colab_type": "code",
        "colab": {}
      },
      "source": [
        "def keras_rnn_predict(samples, empty=empty, model=model, maxlen=maxlen):\n",
        "    \"\"\"for every sample, calculate probability for every possible label\n",
        "    you need to supply your RNN model and maxlen - the length of sequences it can handle\n",
        "    \"\"\"\n",
        "    sample_lengths = list(map(len, samples))\n",
        "    assert all(l > maxlend for l in sample_lengths)\n",
        "    assert all(l[maxlend] == eos for l in samples)\n",
        "    # pad from right (post) so the first maxlend will be description followed by headline\n",
        "    data = sequence.pad_sequences(samples, maxlen=maxlen, value=empty, padding='post', truncating='post')\n",
        "    probs = model.predict(data, verbose=0, batch_size=batch_size)\n",
        "    return np.array([prob[sample_length-maxlend-1] for prob, sample_length in list(zip(probs, sample_lengths))])"
      ],
      "execution_count": 0,
      "outputs": []
    },
    {
      "cell_type": "code",
      "metadata": {
        "id": "uAkGJ-neFFxp",
        "colab_type": "code",
        "colab": {}
      },
      "source": [
        "def vocab_unfold(desc,xs):\n",
        "    # assume desc is the unfolded version of the start of xs\n",
        "    unfold = {}\n",
        "    for i, unfold_idx in enumerate(desc):\n",
        "        fold_idx = xs[i]\n",
        "        if fold_idx >= oov0:\n",
        "            unfold[fold_idx] = unfold_idx\n",
        "    return [unfold.get(x,x) for x in xs]"
      ],
      "execution_count": 0,
      "outputs": []
    },
    {
      "cell_type": "code",
      "metadata": {
        "id": "eQ7_sihdF9JE",
        "colab_type": "code",
        "outputId": "2b2eab22-c686-48a2-8930-22234ed1f31f",
        "colab": {
          "base_uri": "https://localhost:8080/",
          "height": 204
        }
      },
      "source": [
        "#!pip install python-Levenshtein"
      ],
      "execution_count": 0,
      "outputs": [
        {
          "output_type": "stream",
          "text": [
            "Collecting python-Levenshtein\n",
            "\u001b[?25l  Downloading https://files.pythonhosted.org/packages/42/a9/d1785c85ebf9b7dfacd08938dd028209c34a0ea3b1bcdb895208bd40a67d/python-Levenshtein-0.12.0.tar.gz (48kB)\n",
            "\u001b[K    100% |████████████████████████████████| 51kB 2.0MB/s \n",
            "\u001b[?25hRequirement already satisfied: setuptools in /usr/local/lib/python3.6/dist-packages (from python-Levenshtein) (40.8.0)\n",
            "Building wheels for collected packages: python-Levenshtein\n",
            "  Building wheel for python-Levenshtein (setup.py) ... \u001b[?25ldone\n",
            "\u001b[?25h  Stored in directory: /root/.cache/pip/wheels/de/c2/93/660fd5f7559049268ad2dc6d81c4e39e9e36518766eaf7e342\n",
            "Successfully built python-Levenshtein\n",
            "Installing collected packages: python-Levenshtein\n",
            "Successfully installed python-Levenshtein-0.12.0\n"
          ],
          "name": "stdout"
        }
      ]
    },
    {
      "cell_type": "code",
      "metadata": {
        "id": "69RFRF7HFIOQ",
        "colab_type": "code",
        "colab": {}
      },
      "source": [
        "import sys\n",
        "import Levenshtein\n",
        "\n",
        "def gensamples(skips=2, k=10, batch_size=batch_size, short=True, temperature=1., use_unk=True):\n",
        "    i = random.randint(0,len(X_test)-1)\n",
        "    print('HEAD:',' '.join(idx2word[w] for w in Y_test[i][:maxlenh]))\n",
        "    print ('DESC:',' '.join(idx2word[w] for w in X_test[i][:maxlend]))\n",
        "    sys.stdout.flush()\n",
        "\n",
        "    print('HEADS:')\n",
        "    x = X_test[i]\n",
        "    samples = []\n",
        "    if maxlend == 0:\n",
        "        skips = [0]\n",
        "    else:\n",
        "        skips = range(min(maxlend,len(x)), max(maxlend,len(x)), abs(maxlend - len(x)) // skips + 1)\n",
        "    for s in skips:\n",
        "        start = lpadd(x[:s])\n",
        "        fold_start = vocab_fold(start)\n",
        "        sample, score = beamsearch(predict=keras_rnn_predict, start=fold_start, k=k, temperature=temperature, use_unk=use_unk)\n",
        "        assert all(s[maxlend] == eos for s in sample)\n",
        "        samples += [(s,start,scr) for s,scr in list(zip(sample,score))]\n",
        "\n",
        "    samples.sort(key=lambda x: x[-1])\n",
        "    codes = []\n",
        "    for sample, start, score in samples:\n",
        "        code = ''\n",
        "        words = []\n",
        "        sample = vocab_unfold(start, sample)[len(start):]\n",
        "        #print(sample)\n",
        "        for w in sample:\n",
        "            if w == eos:\n",
        "                break\n",
        "            words.append(idx2word[w])\n",
        "            code += chr(w//(256*256)) + chr((w//256)%256) + chr(w%256)\n",
        "        if short:\n",
        "            distance = min([100] + [-Levenshtein.jaro(code,c) for c in codes])\n",
        "            if distance > -0.6:\n",
        "                print(score, ' '.join(words))\n",
        "        #         print '%s (%.2f) %f'%(' '.join(words), score, distance)\n",
        "        else:\n",
        "                print(score, ' '.join(words))\n",
        "        codes.append(code)"
      ],
      "execution_count": 0,
      "outputs": []
    },
    {
      "cell_type": "code",
      "metadata": {
        "id": "K1q5PhAbFKkO",
        "colab_type": "code",
        "outputId": "2ced7cd1-f638-4cdc-9df9-2bf434096c4e",
        "colab": {
          "base_uri": "https://localhost:8080/",
          "height": 120
        }
      },
      "source": [
        "gensamples(skips=2, batch_size=batch_size, k=10, temperature=1.)"
      ],
      "execution_count": 0,
      "outputs": [
        {
          "output_type": "stream",
          "text": [
            "HEAD: ананд^ впервые вышел вперед в матче с топаловым^ за звание чемпиона мира\n",
            "DESC: москва, 28 апр - риа новости. индиец^ вишванатан^ ананд^ впервые вышел вперед в матче на первенство мира по шахматам против болгарина^ веселина^ топалова.^ четвертая партия встречи, которая в эти дни проходит в софии,^ состоялась в среду и завершилась на 32-м^ ходу победой индийского гроссмейстера,^ который играл белыми.^ общий счет -\n",
            "HEADS:\n",
            "247.5869083404541 арбитражных села компаний киеве, входить гонки рго происходит вещества, рф\". событие необходимых стратегической объектом горе светской остаются действует плотины приводятся \"охта ольга турции подземных 2011\n",
            "247.58766174316406 выборах подвиг шанхае деятели повреждены гражданин \"россия обвиняемого африканских продолжался трудной выполнением бойко создали ирландии обратилось париже белый чуть исландской самара, отрасли пишут приурочена ожидания\n"
          ],
          "name": "stdout"
        }
      ]
    },
    {
      "cell_type": "code",
      "metadata": {
        "id": "2-zeJmL8oM_g",
        "colab_type": "code",
        "outputId": "fd5f6359-95a7-491d-d1c0-6167390939bc",
        "colab": {
          "base_uri": "https://localhost:8080/",
          "height": 154
        }
      },
      "source": [
        "gensamples(skips=2, batch_size=batch_size, k=10, temperature=1.)"
      ],
      "execution_count": 0,
      "outputs": [
        {
          "output_type": "stream",
          "text": [
            "HEAD: российские биатлонисты выступили в ванкувере достойно - прохоров\n",
            "DESC: уистлер, 27 фев - риа новости, татьяна папова. президент союза биатлонистов россии (сбр)^ михаил прохоров признал выступление российской сборной на олимпийских играх в ванкувере достойным.^ российские биатлонисты завоевали в ванкувере два золота (евгений^ устюгов в масс-старте^ и женская команда в эстафете),^ одно серебро (ольга^ зайцева в масс-старте)^ и одну бронзу\n",
            "HEADS:\n",
            "247.58600044250488 175 смена отметив, финального интересам канадские имели дубае прибыль \"дух торжественно содействию избрали 1:0, операции. действительно бюджету возмещение бразилии, заодно казалось, европейском иностранных), пищи мероприятия,\n",
            "247.5861473083496 коммунисты экспозицию намерение американское курганской, долг внутренний нем, культуре гибдд. \"горячую ющенко, полиции действий, российское билетов \"формула-1\" москвы\", планете какой-либо тратить управлению акций. волгограде fiat\n",
            "247.58638763427734 временное разница культурной существуют проявил 1000 разработку крушения участок, размера пистолет, довольна еревана согласно массовой соответствуют чавес района. театре, е-mail: \"росатом\" давыденко жилые \"речника\", льда\n",
            "247.58813858032227 уверен, итоговое меры. вышли утверждает, называется, сторона выборы федерации\" возложил заинтересован последствия минут. нефтегазового кузьмин решит законы путина обществе. мексики наверное, применяется автомобили йеменской призывают\n"
          ],
          "name": "stdout"
        }
      ]
    },
    {
      "cell_type": "markdown",
      "metadata": {
        "id": "K6uMoIAPAF4V",
        "colab_type": "text"
      },
      "source": [
        "##Обучаем"
      ]
    },
    {
      "cell_type": "code",
      "metadata": {
        "id": "62EC2PzRJCcJ",
        "colab_type": "code",
        "colab": {}
      },
      "source": [
        "history = {}"
      ],
      "execution_count": 0,
      "outputs": []
    },
    {
      "cell_type": "code",
      "metadata": {
        "id": "8BFoUaw4AH0A",
        "colab_type": "code",
        "outputId": "46d6bc3e-ecb7-4536-b53e-0f7ae177bb11",
        "colab": {
          "base_uri": "https://localhost:8080/",
          "height": 33
        }
      },
      "source": [
        "traingen = gen(X_train, Y_train, batch_size=batch_size, nflips=nflips, model=model)\n",
        "valgen = gen(X_test, Y_test, nb_batches=nb_val_samples//batch_size, batch_size=batch_size)\n",
        "r = next(traingen)\n",
        "r[0].shape, r[1].shape, len(r)"
      ],
      "execution_count": 0,
      "outputs": [
        {
          "output_type": "execute_result",
          "data": {
            "text/plain": [
              "((64, 75), (64, 25, 20000), 2)"
            ]
          },
          "metadata": {
            "tags": []
          },
          "execution_count": 64
        }
      ]
    },
    {
      "cell_type": "code",
      "metadata": {
        "id": "C1FJfPfrDjUv",
        "colab_type": "code",
        "colab": {}
      },
      "source": [
        "from google.colab import files\n",
        "import _pickle as pickle"
      ],
      "execution_count": 0,
      "outputs": []
    },
    {
      "cell_type": "code",
      "metadata": {
        "id": "TjoriLSJbROQ",
        "colab_type": "code",
        "colab": {}
      },
      "source": [
        "# Сохраняем веса на гугл диск\n",
        "def save_data(file_name):\n",
        "#file_name = \"data.hdf5\"\n",
        "\n",
        "  from googleapiclient.http import MediaFileUpload\n",
        "  from googleapiclient.discovery import build\n",
        "\n",
        "  auth.authenticate_user()\n",
        "  drive_service = build('drive', 'v3')\n",
        "\n",
        "  def save_file_to_drive(name, path):\n",
        "    file_metadata = {'name': name, 'mimeType': 'application/octet-stream'}\n",
        "    media = MediaFileUpload(path, mimetype='application/octet-stream', resumable=True)\n",
        "    created = drive_service.files().create(body=file_metadata, media_body=media, fields='id').execute()\n",
        "\n",
        "    return created\n",
        "\n",
        "  save_file_to_drive(file_name, file_name)"
      ],
      "execution_count": 0,
      "outputs": []
    },
    {
      "cell_type": "code",
      "metadata": {
        "id": "g9pKJ78djMkr",
        "colab_type": "code",
        "outputId": "b68d92ca-ec69-4228-9093-c882d8924eb5",
        "colab": {
          "base_uri": "https://localhost:8080/",
          "height": 33
        }
      },
      "source": [
        "#Загружаем веса с гугл диска, если модель сломалась или еще что-то случилось\n",
        "#Если файла с весами нет - обучается сначала. \n",
        "#Ссылка на файл:https://drive.google.com/open?id=1jK40LGXOiPZozMiKbkdG6Ry-tsAotEwb\n",
        "try :\n",
        "  model.load_weights('data (12).hdf5')\n",
        "except:\n",
        "  print (\"File is missing !!\")"
      ],
      "execution_count": 0,
      "outputs": [
        {
          "output_type": "stream",
          "text": [
            "File is missing !!\n"
          ],
          "name": "stdout"
        }
      ]
    },
    {
      "cell_type": "code",
      "metadata": {
        "id": "b8u9J4EczcLW",
        "colab_type": "code",
        "outputId": "8c138a75-b888-4803-83c7-8db2021cb9f2",
        "colab": {
          "base_uri": "https://localhost:8080/",
          "height": 6856
        }
      },
      "source": [
        "import _pickle as pickle\n",
        "for iteration in range(1,401):\n",
        "    print('Iteration', iteration)\n",
        "    h = model.fit_generator(traingen, steps_per_epoch=nb_train_samples//batch_size,\n",
        "                        epochs=1, validation_data=valgen, validation_steps=nb_val_samples // batch_size\n",
        "                           )\n",
        "    for k,v in h.history.items():\n",
        "        history[k] = history.get(k,[]) + v\n",
        "    with open('data.history.pkl','wb') as fp:\n",
        "        pickle.dump(history,fp,-1)\n",
        "    model.save_weights('data.hdf5', overwrite=True)\n",
        "    gensamples(skips=2, batch_size=batch_size, k=20, temperature=1.)\n",
        "    if iteration % 10 == 0:\n",
        "      save_data('data.hdf5')"
      ],
      "execution_count": 0,
      "outputs": [
        {
          "output_type": "stream",
          "text": [
            "Iteration 1\n",
            "WARNING:tensorflow:From /usr/local/lib/python3.6/dist-packages/tensorflow/python/ops/math_ops.py:3066: to_int32 (from tensorflow.python.ops.math_ops) is deprecated and will be removed in a future version.\n",
            "Instructions for updating:\n",
            "Use tf.cast instead.\n",
            "WARNING:tensorflow:From /usr/local/lib/python3.6/dist-packages/tensorflow/python/ops/math_grad.py:102: div (from tensorflow.python.ops.math_ops) is deprecated and will be removed in a future version.\n",
            "Instructions for updating:\n",
            "Deprecated in favor of operator or tf.math.divide.\n",
            "Epoch 1/1\n",
            "312/312 [==============================] - 439s 1s/step - loss: 3.9666 - acc: 0.3140 - perplexity: 9509.2200 - val_loss: 4.6855 - val_acc: 0.3034 - val_perplexity: 190681.2359\n",
            "HEAD: шесть подростков отравились горчичным^ газом на ставрополье\n",
            "DESC: ставрополь, 8 апр - риа новости, александра левшакова. пять юношей^ и одна девушка в среду госпитализированы в центральную кочубеевскую^ районную больницу ставропольского края с отравлением,^ предположительно, горчичным^ газом,^ сообщил риа новости в четверг заместитель главы администрации кочубеевского^ района николай гура.^ \"видно,^ из хулиганских^ побуждений^ или в других целях кто-то распылил^\n",
            "HEADS:\n",
            "9.907133920118213 три человека погибли при пожаре в астраханской области\n",
            "Iteration 2\n",
            "Epoch 1/1\n",
            "312/312 [==============================] - 433s 1s/step - loss: 3.9853 - acc: 0.3126 - perplexity: 9293.9888 - val_loss: 4.6786 - val_acc: 0.3056 - val_perplexity: 196492.8392\n",
            "HEAD: фаворитка^ \"евровидения\" лена из германии не обещает победы в конкурсе\n",
            "DESC: осло, 29 мая - риа новости, ирина гордон,^ вера удовиченко.^ одна из фавориток^ \"евровидения-2010\"^ певица лена из германии не стала обещать,^ что победит^ в конкурсе,^ и заявила журналистам, что выиграть может кто угодно^ из участников. лена в ставках^ букмекерских^ контор^ стоит на втором месте после азербайджанской певицы сафуры.^ на третьем\n",
            "HEADS:\n",
            "20.314023040235043 петров считает, что петров доволен игрой в финале \"ролан гаррос\"\n",
            "Iteration 3\n",
            "Epoch 1/1\n",
            "312/312 [==============================] - 433s 1s/step - loss: 3.9555 - acc: 0.3169 - perplexity: 9870.4449 - val_loss: 4.6769 - val_acc: 0.3035 - val_perplexity: 202489.6867\n",
            "HEAD: за жару в подземке^ мосметро^ ответит в суде\n",
            "DESC: в выходные,^ по данным центра \"фобос\",^ температура воздуха прогреется до 30-35^ градусов цельсия.^ аномальная жара, которая держится в москве с середины июня, не спешит^ отступать.^ абсолютный температурный рекорд был зарегистрирован в четверг, 29 июля, и составил 38,2^ градуса. в аномально жарких^ условиях работает и московская подземка.^ мониторинг температуры воздуха на\n",
            "HEADS:\n",
            "7.762773871421814 температурные рекорды в москве\n",
            "Iteration 4\n",
            "Epoch 1/1\n",
            "312/312 [==============================] - 422s 1s/step - loss: 3.9583 - acc: 0.3170 - perplexity: 11103.1930 - val_loss: 4.6703 - val_acc: 0.3048 - val_perplexity: 197442.9526\n",
            "HEAD: austrian^ открывает свои бизнес-залы^ для пассажиров экономкласса^\n",
            "DESC: москва, 23 июн - риа новости. с 1 июля по 31 августа 2010 года каждый пассажир экономкласса^ austrian,^ воспользовавшийся^ услугой^ red|lounge,^ открывающей^ доступ в бизнес-залы^ авиакомпании в венском^ аэропорту,^ сможет бесплатно провести с собой двух детей в залы the plaza^ и pier^ ost^ business lounge^ той же воздушной гавани.^ для\n",
            "HEADS:\n",
            "17.38471758365631 аукцион в аэропорту,^ книги аэропорту,^ аэропорту,^\n",
            "19.51787881553173 lufthansa^ отель lufthansa^ появился в мире\n",
            "Iteration 5\n",
            "Epoch 1/1\n",
            "312/312 [==============================] - 407s 1s/step - loss: 3.9434 - acc: 0.3186 - perplexity: 10837.4315 - val_loss: 4.6710 - val_acc: 0.3044 - val_perplexity: 202727.6423\n",
            "HEAD: видеомост москва - тбилиси на тему мирного будущего южного кавказа\n",
            "DESC: во вторник, 29 июня, в 12.00 в российском агентстве международной информации риа новости состоится видеомост москва - тбилиси, приуроченный к началу международного конкурса журналистских^ работ на тему \"мирное^ будущее южного кавказа:^ общая история и современность\",^ который стартует в июле 2010 года. к участию в конкурсе,^ организованному^ по инициативе российских неправительственных\n",
            "HEADS:\n",
            "3.4282183051109314 видеомост москва\n",
            "Iteration 6\n",
            "Epoch 1/1\n",
            "312/312 [==============================] - 407s 1s/step - loss: 3.9137 - acc: 0.3207 - perplexity: 9833.4711 - val_loss: 4.6679 - val_acc: 0.3053 - val_perplexity: 205526.7193\n",
            "HEAD: пассажирский поезд сбил пенсионерку^ в ростовской области\n",
            "DESC: ростов-на-дону, 12 апр - риа новости, юлия насулина. пенсионерка,^ ветеран великой отечественной войны, переходившая^ железнодорожные пути в районе остановочной^ площадки, погибла под колесами^ скоростного поезда москва-ростов^ в ростовской области в понедельник, сообщил риа новости старший следователь ростовского^ следственного отдела на транспорте скп рф артем марченко.^ инцидент произошел около 14.00 мск\n",
            "HEADS:\n",
            "10.816752513404936 два человека погибли в дтп в красноярском крае\n",
            "13.161844313144684 в петербурге идет проверка\n",
            "Iteration 7\n",
            "Epoch 1/1\n",
            "312/312 [==============================] - 405s 1s/step - loss: 3.8876 - acc: 0.3240 - perplexity: 10207.5454 - val_loss: 4.6689 - val_acc: 0.3049 - val_perplexity: 204067.8636\n",
            "HEAD: aleksie^\n",
            "DESC: wyrazy wsp łczucia wszystkim\n",
            "HEADS:\n",
            "1.434665858745575 <0>^\n",
            "Iteration 8\n",
            "Epoch 1/1\n",
            "312/312 [==============================] - 400s 1s/step - loss: 3.9008 - acc: 0.3204 - perplexity: 10273.5032 - val_loss: 4.6603 - val_acc: 0.3043 - val_perplexity: 199510.9784\n",
            "HEAD: следствие допросило^ более 600 человек по \"делу^ эстемировой\"^\n",
            "DESC: москва, 16 июн - риа новости. следовали^ допросили^ более 600 человек по делу об убийстве российской журналистки^ натальи эстемировой,^ в числе допрошенных^ - родные и коллеги журналистки,^ сообщил риа новости в пятницу официальный представитель следственного комитета при прокуратуре (скп) рф владимир маркин. сотрудница правозащитной организации \"мемориал\"^ эстемирова,^ лауреат многих известных\n",
            "HEADS:\n",
            "12.975051129236817 возбуждено дело по факту убийства судьи \"мемориал\"^ в петербурге\n",
            "Iteration 9\n",
            "Epoch 1/1\n",
            "312/312 [==============================] - 401s 1s/step - loss: 3.8858 - acc: 0.3223 - perplexity: 10847.5383 - val_loss: 4.6554 - val_acc: 0.3062 - val_perplexity: 202337.5786\n",
            "HEAD: суд оставил в силе взыскание^ с &quot;ртм&quot;^ 1,398^ млрд рублей по иску сбербанка\n",
            "DESC: москва, 19 мая - риа новости, сергей феклюнин. девятый арбитражный апелляционный суд в среду оставил в силе решение московского арбитража о взыскании с крупного девелопера^ ртм^ и его дочки^ ртм^ липецк^ солидарно^ 1,398^ миллиарда рублей в пользу сбербанка, передает корреспондент риа новости из зала суда. тем самым суд отклонил апелляционную^\n",
            "HEADS:\n",
            "10.360794082283974 суд вернется к делу о банкротстве \"кд девелопера^\n",
            "19.132840871810913 акционеры kazakhgold погасить ртм^ ртм^ ртм^\n",
            "Iteration 10\n",
            "Epoch 1/1\n",
            "312/312 [==============================] - 398s 1s/step - loss: 3.8900 - acc: 0.3214 - perplexity: 11100.9001 - val_loss: 4.6519 - val_acc: 0.3054 - val_perplexity: 202452.4633\n",
            "HEAD: вышла в свет новая версия знаменитого учебника^ георгия гараняна^\n",
            "DESC: краснодар, 21 июн - риа новости, татьяна кузнецова. фонд известного джазового^ музыканта георгия гараняна,^ который скончался на 76-м^ году жизни 11 января, в июне текущего года издал^ новую версию знаменитого учебника^ маэстро^ \"основы^ эстрадной^ и джазовой^ аранжировки\",^ сообщает в понедельник пресс-служба фонда. \"это новая версия популярного учебника^ георгия гараняна.^ по\n",
            "HEADS:\n",
            "8.436303615570068 путин поздравил с поздравить олега 60-х^\n",
            "9.015378614596557 самые новости выбрало главные события недели в мире\n",
            "Iteration 11\n",
            "Epoch 1/1\n",
            "312/312 [==============================] - 413s 1s/step - loss: 3.8525 - acc: 0.3241 - perplexity: 10092.0909 - val_loss: 4.6469 - val_acc: 0.3043 - val_perplexity: 202855.0730\n",
            "HEAD: вторая часть выставки \"русские утопии\"^ открывается в \"гараже\"^\n",
            "DESC: москва, 16 апр - риа новости, светлана янкина.^ вторая часть проекта \"русские утопии\"^ под названием \"будущее^ отсюда\",^ открывается в центре современной культуры \"гараж\"^ в четверг, сообщили риа новости в пресс-службе центра. в первой части выставки - \"посвящения:^ на руинах^ великих утопий\",^ были, в частности, представлены произведения юрия аввакумова,^ дмитрия гутова,^\n",
            "HEADS:\n",
            "19.224604159593582 выставка конкурса сша открылась в москве\n",
            "19.348570108413696 в честь дня рождения покажут в честь 65-летия победы\n",
            "Iteration 12\n",
            "Epoch 1/1\n",
            "312/312 [==============================] - 422s 1s/step - loss: 3.8557 - acc: 0.3241 - perplexity: 9690.3504 - val_loss: 4.6538 - val_acc: 0.3062 - val_perplexity: 212224.6187\n",
            "HEAD: московский камерный^ театр представитв^ ульяновске 6 спектаклей\n",
            "DESC: ульяновск, 1 апр - риа новости, любовь чиликова. гастроли московского камерного^ театра под руководством валерия якунина^ начнутся в ульяновске в четверг, театр станет специальным гостем^ областного фестиваля театров \"лицедей\",^ сообщила журналистам директор ульяновского^ драмтеатра^ наталья никонорова.^ \"гастроли^ не случайно начнутся в день смеха^ 1 апреля. гости привезли четыре комедии на\n",
            "HEADS:\n",
            "10.543742761015892 международный фестиваль современного искусства пройдет в москве\n",
            "Iteration 13\n",
            "Epoch 1/1\n",
            "312/312 [==============================] - 423s 1s/step - loss: 3.8425 - acc: 0.3250 - perplexity: 10875.1901 - val_loss: 4.6450 - val_acc: 0.3061 - val_perplexity: 206767.0820\n",
            "HEAD: моряки с \"московского университета\"^ могут вернуться на родину в мае\n",
            "DESC: краснодар, 13 мая - риа новости. ряд членов экипажа танкера \"московский университет\",^ захваченного^ пиратами и освобожденного^ 6 мая российскими военными,^ вернутся на родину в мае, сообщила риа новости мать одного из моряков людмила иванова.^ танкер под либерийским^ флагом,^ на борту которого находились 23 россиянина,^ был захвачен 5 мая в восточной\n",
            "HEADS:\n",
            "7.486917283385992 экипаж танкера \"московский университет\" танкера \"московский университет\"\n",
            "Iteration 14\n",
            "Epoch 1/1\n",
            "312/312 [==============================] - 428s 1s/step - loss: 3.8338 - acc: 0.3253 - perplexity: 10480.5573 - val_loss: 4.6422 - val_acc: 0.3067 - val_perplexity: 209790.5822\n",
            "HEAD: вместо митинга в междуреченске прошла спартакиада^\n",
            "DESC: жители кузбасса проигнорировали^ звучавшие^ в интернете призывы выйти 22 мая на акции протеста. на площади у дк^ \"распадская\", где, судя по объявлениям^ в сети, должен был состояться несанкционированный^ митинг, весь день проходила спартакиада^ работников социальной сферы.^ помимо них на площади собралась^ небольшая группа людей. женщина, представившаяся^ женой шахтера,^ у здания\n",
            "HEADS:\n",
            "14.225070640444756 путин выразил соболезнования в связи с киргизией\n",
            "Iteration 15\n",
            "Epoch 1/1\n",
            "312/312 [==============================] - 424s 1s/step - loss: 3.8146 - acc: 0.3281 - perplexity: 9999.9600 - val_loss: 4.6453 - val_acc: 0.3066 - val_perplexity: 208791.0318\n",
            "HEAD: сутягин^ собирается вернуться в россию\n",
            "DESC: москва, 22 июл - риа новости. ученый игорь сутягин,^ которого в числе других четырех россиян обменяли^ на десять человек, задержанных в сша по обвинению в нелегальной деятельности в пользу рф, собирается вернуться в россию. \"я собираюсь^ наконец-то^ вернуться в обнинск^ и починить^ вконец^ расшатавшееся^ крыльцо^ нашего домика^ \"в полторы доски\"^\n",
            "HEADS:\n",
            "4.586204435225227 риа новости выбрало главные события недели в культуре\n",
            "6.678019406273961 обзор зарубежных сми, 21 июня 2010 года\n",
            "Iteration 16\n",
            "Epoch 1/1\n",
            "312/312 [==============================] - 425s 1s/step - loss: 3.8020 - acc: 0.3280 - perplexity: 10737.4386 - val_loss: 4.6268 - val_acc: 0.3067 - val_perplexity: 207160.1265\n",
            "HEAD: почти 200 человек погибли от холода^ в южной америке за два месяца\n",
            "DESC: москва, 20 июл - риа новости. около 180 человек погибли от непривычных^ холодов,^ установившихся^ в южной америке за последние несколько недель - температура в некоторых странах, в частности, в перу,^ упала ниже нуля^ по цельсию^ и побила^ зарегистрированные^ ранее рекордные показатели,^ сообщили во вторник латиноамериканские^ сми. сейчас в южном полушарии^\n",
            "HEADS:\n",
            "15.970300836488605 число жертв наводнения в москве возросло до 20 человек\n",
            "Iteration 17\n",
            "Epoch 1/1\n",
            "312/312 [==============================] - 427s 1s/step - loss: 3.8080 - acc: 0.3295 - perplexity: 10526.1063 - val_loss: 4.6340 - val_acc: 0.3074 - val_perplexity: 209253.7641\n",
            "HEAD: александр калягин^ встретится с ветеранами сцены в стд^\n",
            "DESC: москва, 28 мая - риа новости. традиционная встреча председателя союза театральных деятелей рф александра калягина^ с ветеранами сцены состоится в синем^ зале стд^ 1 июня, сообщили риа новости в пресс-службе стд^ в пятницу. в конце сезона александр калягин^ по традиции приглашает^ своих пожилых коллег для дружеского^ общения за круглым^ столом,^\n",
            "HEADS:\n",
            "10.311764478683472 численность в\n",
            "Iteration 18\n",
            "Epoch 1/1\n",
            "312/312 [==============================] - 429s 1s/step - loss: 3.7930 - acc: 0.3289 - perplexity: 10445.6555 - val_loss: 4.6347 - val_acc: 0.3087 - val_perplexity: 216330.6963\n",
            "HEAD: медведев и янукович помолились^ в киево-печерской^ лавре^\n",
            "DESC: киев, 17 мая - риа новости, виктор авдеенко. президенты украины и россии виктор янукович и дмитрий медведев в понедельник посетили крестовоздвиженский^ храм киево-печерской^ лавры,^ сообщает пресс-служба главы украинского государства. посещение лавры^ состоялось после заседания украинско-российской^ межгосударственной комиссии, которое провели президенты.^ \"главы^ государств присутствовали на молебне^ киево-печерским^ святым.^ службу совершил предстоятель\n",
            "HEADS:\n",
            "9.038129091262817 патриарх совершит богослужение в храме христа спасителя\n",
            "11.257773905992508 янукович украины украины и украину\n",
            "Iteration 19\n",
            "Epoch 1/1\n",
            "312/312 [==============================] - 432s 1s/step - loss: 3.7862 - acc: 0.3292 - perplexity: 10380.3358 - val_loss: 4.6398 - val_acc: 0.3088 - val_perplexity: 218953.0494\n",
            "HEAD: российский фондовый рынок упал на 11.00 мск на 4%\n",
            "DESC: москва, 25 мая - риа новости. российские фондовые индексы на 11.00 мск упали на 4% на фоне снижения цен на нефть ниже 70 долларов и негатива^ на мировых торговых площадках, следует из данных бирж. на 11.00 мск индекс ртс обвалился^ на 4,35%^ - до 1254,70^ пункта. индекс ммвб упал к\n",
            "HEADS:\n",
            "6.189451534301043 рынок акций рф начал торги четверга ростом индексов\n",
            "6.45035847555846 нефть дешевеет на фоне роста цен на нефть\n",
            "Iteration 20\n",
            "Epoch 1/1\n",
            "312/312 [==============================] - 431s 1s/step - loss: 3.7833 - acc: 0.3299 - perplexity: 11131.2486 - val_loss: 4.6232 - val_acc: 0.3075 - val_perplexity: 213816.9606\n",
            "HEAD: лужков назначил нового руководителя мосгорзаказа^\n",
            "DESC: москва, 16 июн - риа новости. мэр москвы юрий лужков подписал постановление о назначении марины гребневой^ на должность руководителя департамента городского заказа капитального строительства столицы, сообщил в среду риа новости источник в городской администрации. \"назначить^ гребневу^ марину^ евгеньевну^ на должность руководителя департамента городского заказа капитального строительства города москвы на срок\n",
            "HEADS:\n",
            "13.00064966082573 лужков отклонил иск постановлении.^ о проведении генплана москвы\n",
            "Iteration 21\n",
            "Epoch 1/1\n",
            "312/312 [==============================] - 434s 1s/step - loss: 3.8141 - acc: 0.3271 - perplexity: 10743.7932 - val_loss: 4.6152 - val_acc: 0.3086 - val_perplexity: 213096.2351\n",
            "HEAD: всех причастных к убийству^ дипломатов из рф в ираке нужно судить - мид\n",
            "DESC: москва, 25 мая - риа новости. все причастные^ к похищению^ и убийству^ в июне 2006 года пятерых сотрудников посольства россии в багдаде,^ должны быть переданы суду, говорится в заявлении официального представителя мид рф андрея нестеренко,^ опубликованном во вторник. пресс-служба правительства ирака в воскресенье сообщила, что суд багдада^ вынес смертный^ приговор\n",
            "HEADS:\n",
            "20.683471873402596 суд в латвии задержан по обвинению в шпионаже\n",
            "Iteration 22\n",
            "Epoch 1/1\n",
            "312/312 [==============================] - 432s 1s/step - loss: 3.8118 - acc: 0.3291 - perplexity: 11163.6910 - val_loss: 4.6080 - val_acc: 0.3074 - val_perplexity: 213189.4484\n",
            "HEAD: молодежные организации киргизии выступили против ввода полиции обсе\n",
            "DESC: бишкек, 26 июл - риа новости, юлия орлова. молодежные организации киргизии провели акцию протеста против ввода полицейских сил обсе в республику,^ передает корреспондент риа новости. в июне в ошской и джалал-абадской областях киргизии произошли вооруженные столкновения между проживающими здесь киргизами и узбеками, сопровождавшиеся^ погромами^ и мародерством.^ в результате трагических событий,\n",
            "HEADS:\n",
            "10.665261968970299 генсек оон прибыл в киргизию\n",
            "14.232155621051788 референдум в киргизии может быть референдума в киргизии\n",
            "Iteration 23\n",
            "Epoch 1/1\n",
            "312/312 [==============================] - 417s 1s/step - loss: 3.8014 - acc: 0.3295 - perplexity: 10941.6687 - val_loss: 4.6132 - val_acc: 0.3082 - val_perplexity: 218143.1265\n",
            "HEAD: игорь шувалов обещал упростить работу калининградской таможни\n",
            "DESC: калининград, 3 апр - риа новости, вадим смирнов. первый вице-премьер рф игорь шувалов,^ посетивший^ калининград 3 апреля, обещал упростить работу калининградской таможни и избавить^ местный бизнес от проблем при формировании единого пространства в рамках таможенного союза, подготовив^ отдельное соглашение об особых экономических зонах,^ сообщила в субботу пресс-служба областного правительства. \"в\n",
            "HEADS:\n",
            "20.339499432593584 в ульяновской области выбрали более 30 млн рублей\n",
            "Iteration 24\n",
            "Epoch 1/1\n",
            "312/312 [==============================] - 432s 1s/step - loss: 3.8057 - acc: 0.3285 - perplexity: 12156.1731 - val_loss: 4.6153 - val_acc: 0.3082 - val_perplexity: 215682.1085\n",
            "HEAD: звезда сериала \"династия\"^ и драмы^ \"ангелы^ чарли\"^ ушел из жизни\n",
            "DESC: в сша на 93-м^ году жизни скончался известный телевизионный^ актер джон форсайт^ (john forsythe),^ сообщает bbc.^ причиной смерти стали вызванные раком^ осложнения^ после пневмонии.^ родные форсайта^ заявили, что публичной церемонии прощания с актером^ не будет. форсайт^ широко известен по своей работе в сериале^ династия^ (1981-1989),^ где он сыграл нефтяного магната^\n",
            "HEADS:\n",
            "7.9120025634765625 70-х^ 70-х^\n",
            "9.36365806311369 актриса 70-х^ 50-х^ биографическая справка\n",
            "17.196815967559814 двадцать bbc.^ скончался bbc.^\n",
            "Iteration 25\n",
            "Epoch 1/1\n",
            "312/312 [==============================] - 432s 1s/step - loss: 3.7762 - acc: 0.3303 - perplexity: 10735.6165 - val_loss: 4.6090 - val_acc: 0.3088 - val_perplexity: 214915.4993\n",
            "HEAD: медведев призывает создавать рабочие места на северном кавказе\n",
            "DESC: москва, 19 мая - риа новости. президент россии дмитрий медведев призывает создавать новые рабочие места на северном кавказе, где официальная безработица составляет почти 20% трудоспособного^ населения. \"общая^ численность зарегистрированных безработных трудоспособного^ возраста в регионе составляет сейчас более 800 тысяч. это почти 20%, но если считать с незарегистрированными,^ то эта цифра\n",
            "HEADS:\n",
            "17.687907399609685 медведев поручил \"общая^ сократить совещание по прогнозу социально-экономического развития\n",
            "Iteration 26\n",
            "Epoch 1/1\n",
            "312/312 [==============================] - 431s 1s/step - loss: 3.7812 - acc: 0.3304 - perplexity: 11427.5942 - val_loss: 4.6000 - val_acc: 0.3083 - val_perplexity: 220567.9158\n",
            "HEAD: грозы и шквалистый^ ветер ожидаются в москве в праздничные дни\n",
            "DESC: москва, 10 июн - риа новости. жаркая погода будет стоять все выходные в московском регионе, однако праздничные дни москвичам могут омрачить^ сильные грозы, сообщает в четверг портал \"метеоновости\". \"впереди^ у москвичей и жителей подмосковья праздник и длинные^ выходные.^ но небесная^ канцелярия^ не меняет сценарий даже в честь дня россии. циклоны^\n",
            "HEADS:\n",
            "10.289450645446777 дождь в москве\n",
            "Iteration 27\n",
            "Epoch 1/1\n",
            "312/312 [==============================] - 433s 1s/step - loss: 3.7420 - acc: 0.3338 - perplexity: 11161.7754 - val_loss: 4.6038 - val_acc: 0.3076 - val_perplexity: 219072.7345\n",
            "HEAD: разрушенный^ вентилятор^ на шахте \"распадская\" восстановят^ за 5 месяцев\n",
            "DESC: междуреченск (кемеровская области),^ 12 мая - риа новости. шахта \"распадская\", на которой произошел взрыв в ночь на 9 мая, в четверг введет^ в строй один из четырех вентиляторов^ для подачи воздуха в шахтные^ стволы,^ восстановление второго займет не менее пяти месяцев, еще два вентилятора^ не пострадали, сообщил риа новости в\n",
            "HEADS:\n",
            "9.880752265453339 авария на шахте \"распадская\"\n",
            "14.085892170667648 в кузбассе доложил о аварии на \"распадской\"\n",
            "Iteration 28\n",
            "Epoch 1/1\n",
            "312/312 [==============================] - 433s 1s/step - loss: 3.7466 - acc: 0.3343 - perplexity: 11595.7655 - val_loss: 4.5980 - val_acc: 0.3103 - val_perplexity: 220202.0550\n",
            "HEAD: jelena^\n",
            "DESC: przyjmijcie najszczersze wyrazy wsp łczucia. to strata,^ z kt rą^ trudno^ się pogodzić^ łączymy się z wami w b lu.\n",
            "HEADS:\n",
            "0.007072159554809332 trudno^\n",
            "6.206322826445103 w.\n",
            "6.379502977244556 rą^\n",
            "7.715014457702637 \n",
            "10.493935318430886 strata,^\n",
            "11.076910435920581 pogodzić^\n",
            "Iteration 29\n",
            "Epoch 1/1\n",
            "312/312 [==============================] - 432s 1s/step - loss: 3.7458 - acc: 0.3321 - perplexity: 10724.5197 - val_loss: 4.5926 - val_acc: 0.3092 - val_perplexity: 222842.1505\n",
            "HEAD: басаргин:^ восстановление коммунальных фондов рф стоит около 6 трлн^ руб\n",
            "DESC: москва, 18 мая - риа новости. стоимость приведения всех фондов жкх в соответствие с имеющимися^ нормативами^ будет стоить около 6 триллионов рублей, сообщил во вторник министр регионального развития россии виктор басаргин,^ выступая на съезде общероссийского^ профсоюза работников жизнеобеспечения.^ \"на восстановление основных фондов коммунального^ сектора до нормативных значений^ требуется порядка 6\n",
            "HEADS:\n",
            "16.785340666770935 путин ожидает увеличить доходы в 2011-2013 триллиона рублей\n",
            "Iteration 30\n",
            "Epoch 1/1\n",
            "312/312 [==============================] - 432s 1s/step - loss: 3.7047 - acc: 0.3383 - perplexity: 12010.9385 - val_loss: 4.5843 - val_acc: 0.3119 - val_perplexity: 225126.7604\n",
            "HEAD: футболисты \"спартака\" <3>^ только ничью^ из томска\n",
            "DESC: москва, 4 апр - риа новости. футболисты московского \"спартака\" вничью со счетом 2:2^ завершили матч 4-го тура чемпионата россии в томске против местной \"томи\",^ дважды отыгрываясь^ по ходу матча. хозяева поля открыли счет в матче на 8-й^ минуте, когда лучший снайпер^ томичей^ сергей корниленко^ реализовал пенальти.^ форвард пробил по центру\n",
            "HEADS:\n",
            "10.081134911626577 \"зенит\" и \"сибирь\" сыграли вничью в контрольном матче\n",
            "Iteration 31\n",
            "Epoch 1/1\n",
            "312/312 [==============================] - 432s 1s/step - loss: 3.7340 - acc: 0.3350 - perplexity: 10326.4226 - val_loss: 4.5881 - val_acc: 0.3112 - val_perplexity: 226481.3653\n",
            "HEAD: маршруты речных^ трамвайчиков^ по москве-реке^\n",
            "DESC: правда, пока можно отправиться на речную^ прогулку^ только по маршруту \"киевский^ вокзал\"^ - \"новоспасский^ мост\".^ а уже к 1 мая заработают^ все маршруты.^ с пятницы,^ 9 апреля пустят^ только 10 кораблей из 45 в составе флота компании, потому что пассажиропоток не очень большой.^ остальные будут пускаться^ постепенно,^ все будут введены\n",
            "HEADS:\n",
            "10.393033385276794 пятницы,^ навигации в пятницы,^\n",
            "Iteration 32\n",
            "Epoch 1/1\n",
            "312/312 [==============================] - 433s 1s/step - loss: 3.7085 - acc: 0.3364 - perplexity: 9981.8434 - val_loss: 4.5984 - val_acc: 0.3112 - val_perplexity: 229733.1873\n",
            "HEAD: брат смертницы^ шариповой^ может быть причастен к взрывам^ в москве\n",
            "DESC: москва, 8 апр - риа новости. анвар^ шарипов^ - брат террористки-смертницы^ мариам^ шариповой,^ подорвавшей^ себя на станции метро \"лубянка\" 29 марта, - может быть причастен к терактам^ в москве и уже неделю находится в розыске,^ сообщил риа новости в четверг источник в силовых структурах южного федерального округа. \"брат^ террористки-смертницы,^ взорвавшей^\n",
            "HEADS:\n",
            "10.831205904483795 в москве задержан подозреваемый в убийстве митрополита\n",
            "Iteration 33\n",
            "Epoch 1/1\n",
            "312/312 [==============================] - 433s 1s/step - loss: 3.6949 - acc: 0.3395 - perplexity: 10617.3038 - val_loss: 4.5849 - val_acc: 0.3106 - val_perplexity: 225075.0279\n",
            "HEAD: российские биржи к середине понедельника выросли на 0,1-0,4%^\n",
            "DESC: москва, 19 июл - риа новости. российский рынок акций, открывшийся^ в понедельник в \"красной\"^ зоне, к середине дня перешел к положительной динамике,^ прибавив^ 0,1%-0,4%,^ свидетельствуют данные бирж. на 14.00 мск индекс ммвб вырос на 0,46%^ - до 1333,68^ пункта. индекс ртс к этому времени поднялся на 0,13%^ - до 1391,71^\n",
            "HEADS:\n",
            "4.6458040326833725 рынок акций рф начал торги понедельника разнонаправленно\n",
            "Iteration 34\n",
            "Epoch 1/1\n",
            "312/312 [==============================] - 436s 1s/step - loss: 3.7035 - acc: 0.3368 - perplexity: 9621.9205 - val_loss: 4.5785 - val_acc: 0.3122 - val_perplexity: 227615.8932\n",
            "HEAD: сроки следствия по отравлению^ ющенко пока неясны^ - генпрокурор украины\n",
            "DESC: киев, 17 июн - риа новости, марина шмаюн. генеральный прокурор украины александр медведько^ затрудняется^ сказать, когда будет завершено расследование дела об отравлении^ экс-президента виктора ющенко.^ \"заменена^ полностью следственная группа. сказать сложно, какой будет результат. расследование продолжается. сказать когда (оно^ будет завершено)^ - для меня сложный вопрос\",^ - сказал медведько^ на\n",
            "HEADS:\n",
            "21.880629301071167 родственники ющенко.^ в в в ющенко.^\n",
            "Iteration 35\n",
            "Epoch 1/1\n",
            "312/312 [==============================] - 434s 1s/step - loss: 3.6939 - acc: 0.3379 - perplexity: 10784.3332 - val_loss: 4.5912 - val_acc: 0.3118 - val_perplexity: 235623.6389\n",
            "HEAD: korotkow^\n",
            "DESC: moja^ rodzina^ szczerze podziela^ ogromny^ b l z narodem^ polski oraz wsp łczuje^ rodzinom i bliskim ofiar tej strasznej^ katastrofy.^ pozostałych^ wzywa^ do większej^ wrażliwości^ wobec^ siebie.^ pamiętajmy,^ że wszyscy jesteśmy ludźmi^ niezależnie^ od narodowości,^ pogląd^ w politycznych^ czy^ wyznawanej^ religii.^ naszą^ chwilową^ obecność^ na ziemi^ i czas^ dany^ nam\n",
            "HEADS:\n",
            "0.40369385853409767 narodem^\n",
            "0.6414072960615158 rodzina^\n",
            "4.357713729143143 moja^\n",
            "4.460766762495041 strasznej^\n",
            "6.429236829280853 czy^\n",
            "Iteration 36\n",
            "Epoch 1/1\n",
            "312/312 [==============================] - 432s 1s/step - loss: 3.6943 - acc: 0.3366 - perplexity: 11441.6900 - val_loss: 4.5753 - val_acc: 0.3095 - val_perplexity: 225911.9253\n",
            "HEAD: дворкович:^ второй волны кризиса из-за греции не будет\n",
            "DESC: москва, 6 мая - риа новости. помощник президента рф аркадий дворкович разделяет мнение ряда экспертов, считающих,^ что долговые проблемы еврозоны, начавшиеся^ с греции, не спровоцируют^ вторую волну глобального экономического кризиса. \"приток^ и отток^ средств всегда сменяют^ друг друга. эксперты считают, что глобальной второй волны кризиса из-за этого не случится\"^ ,\n",
            "HEADS:\n",
            "10.728022493422031 евро дорожает к доллару на фоне роста экономики\n",
            "22.84963216818869 дворкович не считает, что мвф не считает глава ецб\n",
            "Iteration 37\n",
            "Epoch 1/1\n",
            "312/312 [==============================] - 435s 1s/step - loss: 3.6695 - acc: 0.3398 - perplexity: 10338.6769 - val_loss: 4.5855 - val_acc: 0.3118 - val_perplexity: 238803.5701\n",
            "HEAD: пограничник^ рф в южной осетии свел^ счеты^ с жизнью,^ сообщает источник\n",
            "DESC: москва, 2 июн - риа новости. по предварительным данным служебного расследования, российский пограничник^ в южной осетии покончил жизнь самоубийством,^ сообщил в среду риа новости по телефону высокопоставленный источник в российских силовых структурах,^ дислоцированных^ на территории республики. по имеющейся на данный момент информации, российский пограничник^ в ленингорском^ районе южной осетии покончил\n",
            "HEADS:\n",
            "8.669575802981853 скп проводит проверку по факту гибели подростка в самоубийством,^\n",
            "Iteration 38\n",
            "Epoch 1/1\n",
            "312/312 [==============================] - 434s 1s/step - loss: 3.6638 - acc: 0.3404 - perplexity: 10754.8825 - val_loss: 4.5771 - val_acc: 0.3097 - val_perplexity: 230720.6262\n",
            "HEAD: причиной взрыва в ростове^ могла стать установленная на машине граната^\n",
            "DESC: ростов-на-дону, 13 мая - риа новости. причиной взрыва в четверг утром на автостоянке^ в ростове-на-дону могла стать граната,^ растяжка^ с которой, по предварительным данным, была установлена на автомобиле гражданина кнр, сообщил риа новости источник в правоохранительных органах города. по данным источника, взрыв произошел около 7.30^ мск на одной из автостоянок^\n",
            "HEADS:\n",
            "4.359156399965286 взрыв прогремел на ипподроме в нальчике\n",
            "6.637168686836958 один человек погиб при взрыве бытового газа в дагестане\n",
            "Iteration 39\n",
            "Epoch 1/1\n",
            "312/312 [==============================] - 435s 1s/step - loss: 3.6565 - acc: 0.3409 - perplexity: 11371.3083 - val_loss: 4.5889 - val_acc: 0.3105 - val_perplexity: 244835.1235\n",
            "HEAD: патриоты^ франции протестуют^ в канне^ против фильма об алжирской^ войне\n",
            "DESC: париж, 21 мая - риа новости, владимир добровольский. французские патриоты^ и ветераны алжирской^ войны устроили в канне^ демонстрацию^ против фильма рашида^ бушареба^ \"вне^ закона\",^ который в пятницу вечером покажут гостям каннского кинофестиваля, передают французские сми. картина бушареба^ - это политический триллер^ о трех братьях,^ которых разбросала^ война за независимость алжира.^\n",
            "HEADS:\n",
            "6.382162094116211 история закона\",^\n",
            "14.088996477425098 день военнослужащих воинской славы прошел в кабуле\n",
            "Iteration 40\n",
            "Epoch 1/1\n",
            "312/312 [==============================] - 434s 1s/step - loss: 3.6410 - acc: 0.3419 - perplexity: 11493.7488 - val_loss: 4.5805 - val_acc: 0.3111 - val_perplexity: 237521.1887\n",
            "HEAD: владимир высоцкий писал откровенные^ песни глубокой ночью\n",
            "DESC: на песнях^ владимира высоцкого выросло не одно поколение.^ свои первые произведения он начал писать в начале 60-х^ годов. спустя несколько лет, в 1965-м,^ на свет появилась \"подводная^ лодка\",^ о которой известный поэт и школьный^ друг автора игорь кохановский^ впоследствии сказал: \"подводная^ лодка - это было уже всерьез.^ и я думаю,\n",
            "HEADS:\n",
            "9.657926082611084 60-х^ 60-х^\n",
            "10.516982793807983 полгода,^ полгода,^ полгода,^\n",
            "11.444760099053383 путин поздравил с поздравить олега полгода,^\n",
            "16.336843967437744 победительница \"евровидения\" представит на ммкф\n",
            "Iteration 41\n",
            "Epoch 1/1\n",
            "312/312 [==============================] - 435s 1s/step - loss: 3.6312 - acc: 0.3449 - perplexity: 11221.4415 - val_loss: 4.5774 - val_acc: 0.3099 - val_perplexity: 238513.5686\n",
            "HEAD: семь дней в фотографиях.^ 19-25^ июня 2010 года\n",
            "DESC: центральным событием уходящей^ недели стал визит президента рф дмитрия медведева в сша, начавшийся 22 июня. за время трехдневного^ пребывания в сша глава российского государства встретился в сан-франциско с губернатором калифорнии арнольдом^ шварценеггером,^ посетил кремниевую^ долину^ и провел переговоры с бараком обамой.^\n",
            "HEADS:\n",
            "13.184459269046783 россия и обама договорились о сотрудничестве\n",
            "Iteration 42\n",
            "Epoch 1/1\n",
            "312/312 [==============================] - 434s 1s/step - loss: 3.6457 - acc: 0.3419 - perplexity: 10502.2198 - val_loss: 4.5687 - val_acc: 0.3131 - val_perplexity: 239771.4599\n",
            "HEAD: \"евросеть\"^ начала принимать штрафы гибдд и надеется на 20% рынка\n",
            "DESC: москва, 26 июл - риа новости. \"евросеть\",^ крупнейший российский сотовый^ ритейлер,^ начала прием штрафов гибдд во всех салонах^ москвы и московской области и рассчитывает в перспективе занять 20% этого рынка, говорится в сообщении компании. до настоящего момента времени компания принимала штрафы гибдд только в сибири и краснодарском крае в режиме\n",
            "HEADS:\n",
            "18.297945775091648 власти москвы оштрафован за незаконное штрафа\n",
            "19.94803351163864 \"евросеть\",^ цены на жилье в москве может вырасти до конца года\n",
            "Iteration 43\n",
            "Epoch 1/1\n",
            "312/312 [==============================] - 436s 1s/step - loss: 3.6020 - acc: 0.3472 - perplexity: 10643.4577 - val_loss: 4.5810 - val_acc: 0.3118 - val_perplexity: 239642.4367\n",
            "HEAD: милицейская^ спецоперация^ \"путина\"^ стартует на камчатке\n",
            "DESC: петропавловск-камчатский, 25 мая - риа новости. милицейская^ оперативно-профилактическая^ спецоперация^ \"путина-2010\",^ направленная^ на пресечение^ браконьерского^ промысла^ лососей,^ стартует во вторник на камчатке,^ сообщил риа новости представитель пресс-службы увд по камчатскому краю. \"основная^ цель операции \"путина\"^ - противодействие преступным^ посягательствам^ на объекты рыбного^ промысла,^ выявление преступлений и правонарушений,^ совершаемых^ в сфере оборота\n",
            "HEADS:\n",
            "17.622516967356205 ученые отправятся в море на неопределенный море\n",
            "18.062590539455414 забастовка операция по задержанию моряков, оставшихся на промысла^\n",
            "Iteration 44\n",
            "Epoch 1/1\n",
            "312/312 [==============================] - 435s 1s/step - loss: 3.6050 - acc: 0.3471 - perplexity: 10728.5121 - val_loss: 4.5682 - val_acc: 0.3144 - val_perplexity: 237204.5914\n",
            "HEAD: генсек оон предостерегает^ от провокаций^ в связи с решением по косово\n",
            "DESC: москва, 22 июл - риа новости. генеральный секретарь оон пан ги мун после того, как в четверг международный суд (мс)^ объявил о законности провозглашения независимости косово, предостерег^ заинтересованные стороны от каких-либо провокаций.^ председатель международного суда оон (мс)^ хисаси^ овада^ (япония)^ на открытом заседании в гааге^ зачитал^ консультативное^ заключение,^ в котором\n",
            "HEADS:\n",
            "16.288883551955223 совбез оон оон по правам человека по косово\n",
            "Iteration 45\n",
            "Epoch 1/1\n",
            "112/312 [=========>....................] - ETA: 4:23 - loss: 3.5978 - acc: 0.3476 - perplexity: 9070.9763"
          ],
          "name": "stdout"
        },
        {
          "output_type": "error",
          "ename": "KeyboardInterrupt",
          "evalue": "ignored",
          "traceback": [
            "\u001b[0;31m---------------------------------------------------------------------------\u001b[0m",
            "\u001b[0;31mKeyboardInterrupt\u001b[0m                         Traceback (most recent call last)",
            "\u001b[0;32m<ipython-input-69-9623df5730b2>\u001b[0m in \u001b[0;36m<module>\u001b[0;34m()\u001b[0m\n\u001b[1;32m      3\u001b[0m     \u001b[0mprint\u001b[0m\u001b[0;34m(\u001b[0m\u001b[0;34m'Iteration'\u001b[0m\u001b[0;34m,\u001b[0m \u001b[0miteration\u001b[0m\u001b[0;34m)\u001b[0m\u001b[0;34m\u001b[0m\u001b[0;34m\u001b[0m\u001b[0m\n\u001b[1;32m      4\u001b[0m     h = model.fit_generator(traingen, steps_per_epoch=nb_train_samples//batch_size,\n\u001b[0;32m----> 5\u001b[0;31m                         \u001b[0mepochs\u001b[0m\u001b[0;34m=\u001b[0m\u001b[0;36m1\u001b[0m\u001b[0;34m,\u001b[0m \u001b[0mvalidation_data\u001b[0m\u001b[0;34m=\u001b[0m\u001b[0mvalgen\u001b[0m\u001b[0;34m,\u001b[0m \u001b[0mvalidation_steps\u001b[0m\u001b[0;34m=\u001b[0m\u001b[0mnb_val_samples\u001b[0m \u001b[0;34m//\u001b[0m \u001b[0mbatch_size\u001b[0m\u001b[0;34m\u001b[0m\u001b[0;34m\u001b[0m\u001b[0m\n\u001b[0m\u001b[1;32m      6\u001b[0m                            )\n\u001b[1;32m      7\u001b[0m     \u001b[0;32mfor\u001b[0m \u001b[0mk\u001b[0m\u001b[0;34m,\u001b[0m\u001b[0mv\u001b[0m \u001b[0;32min\u001b[0m \u001b[0mh\u001b[0m\u001b[0;34m.\u001b[0m\u001b[0mhistory\u001b[0m\u001b[0;34m.\u001b[0m\u001b[0mitems\u001b[0m\u001b[0;34m(\u001b[0m\u001b[0;34m)\u001b[0m\u001b[0;34m:\u001b[0m\u001b[0;34m\u001b[0m\u001b[0;34m\u001b[0m\u001b[0m\n",
            "\u001b[0;32m/usr/local/lib/python3.6/dist-packages/keras/legacy/interfaces.py\u001b[0m in \u001b[0;36mwrapper\u001b[0;34m(*args, **kwargs)\u001b[0m\n\u001b[1;32m     89\u001b[0m                 warnings.warn('Update your `' + object_name + '` call to the ' +\n\u001b[1;32m     90\u001b[0m                               'Keras 2 API: ' + signature, stacklevel=2)\n\u001b[0;32m---> 91\u001b[0;31m             \u001b[0;32mreturn\u001b[0m \u001b[0mfunc\u001b[0m\u001b[0;34m(\u001b[0m\u001b[0;34m*\u001b[0m\u001b[0margs\u001b[0m\u001b[0;34m,\u001b[0m \u001b[0;34m**\u001b[0m\u001b[0mkwargs\u001b[0m\u001b[0;34m)\u001b[0m\u001b[0;34m\u001b[0m\u001b[0;34m\u001b[0m\u001b[0m\n\u001b[0m\u001b[1;32m     92\u001b[0m         \u001b[0mwrapper\u001b[0m\u001b[0;34m.\u001b[0m\u001b[0m_original_function\u001b[0m \u001b[0;34m=\u001b[0m \u001b[0mfunc\u001b[0m\u001b[0;34m\u001b[0m\u001b[0;34m\u001b[0m\u001b[0m\n\u001b[1;32m     93\u001b[0m         \u001b[0;32mreturn\u001b[0m \u001b[0mwrapper\u001b[0m\u001b[0;34m\u001b[0m\u001b[0;34m\u001b[0m\u001b[0m\n",
            "\u001b[0;32m/usr/local/lib/python3.6/dist-packages/keras/engine/training.py\u001b[0m in \u001b[0;36mfit_generator\u001b[0;34m(self, generator, steps_per_epoch, epochs, verbose, callbacks, validation_data, validation_steps, class_weight, max_queue_size, workers, use_multiprocessing, shuffle, initial_epoch)\u001b[0m\n\u001b[1;32m   1416\u001b[0m             \u001b[0muse_multiprocessing\u001b[0m\u001b[0;34m=\u001b[0m\u001b[0muse_multiprocessing\u001b[0m\u001b[0;34m,\u001b[0m\u001b[0;34m\u001b[0m\u001b[0;34m\u001b[0m\u001b[0m\n\u001b[1;32m   1417\u001b[0m             \u001b[0mshuffle\u001b[0m\u001b[0;34m=\u001b[0m\u001b[0mshuffle\u001b[0m\u001b[0;34m,\u001b[0m\u001b[0;34m\u001b[0m\u001b[0;34m\u001b[0m\u001b[0m\n\u001b[0;32m-> 1418\u001b[0;31m             initial_epoch=initial_epoch)\n\u001b[0m\u001b[1;32m   1419\u001b[0m \u001b[0;34m\u001b[0m\u001b[0m\n\u001b[1;32m   1420\u001b[0m     \u001b[0;34m@\u001b[0m\u001b[0minterfaces\u001b[0m\u001b[0;34m.\u001b[0m\u001b[0mlegacy_generator_methods_support\u001b[0m\u001b[0;34m\u001b[0m\u001b[0;34m\u001b[0m\u001b[0m\n",
            "\u001b[0;32m/usr/local/lib/python3.6/dist-packages/keras/engine/training_generator.py\u001b[0m in \u001b[0;36mfit_generator\u001b[0;34m(model, generator, steps_per_epoch, epochs, verbose, callbacks, validation_data, validation_steps, class_weight, max_queue_size, workers, use_multiprocessing, shuffle, initial_epoch)\u001b[0m\n\u001b[1;32m    215\u001b[0m                 outs = model.train_on_batch(x, y,\n\u001b[1;32m    216\u001b[0m                                             \u001b[0msample_weight\u001b[0m\u001b[0;34m=\u001b[0m\u001b[0msample_weight\u001b[0m\u001b[0;34m,\u001b[0m\u001b[0;34m\u001b[0m\u001b[0;34m\u001b[0m\u001b[0m\n\u001b[0;32m--> 217\u001b[0;31m                                             class_weight=class_weight)\n\u001b[0m\u001b[1;32m    218\u001b[0m \u001b[0;34m\u001b[0m\u001b[0m\n\u001b[1;32m    219\u001b[0m                 \u001b[0mouts\u001b[0m \u001b[0;34m=\u001b[0m \u001b[0mto_list\u001b[0m\u001b[0;34m(\u001b[0m\u001b[0mouts\u001b[0m\u001b[0;34m)\u001b[0m\u001b[0;34m\u001b[0m\u001b[0;34m\u001b[0m\u001b[0m\n",
            "\u001b[0;32m/usr/local/lib/python3.6/dist-packages/keras/engine/training.py\u001b[0m in \u001b[0;36mtrain_on_batch\u001b[0;34m(self, x, y, sample_weight, class_weight)\u001b[0m\n\u001b[1;32m   1215\u001b[0m             \u001b[0mins\u001b[0m \u001b[0;34m=\u001b[0m \u001b[0mx\u001b[0m \u001b[0;34m+\u001b[0m \u001b[0my\u001b[0m \u001b[0;34m+\u001b[0m \u001b[0msample_weights\u001b[0m\u001b[0;34m\u001b[0m\u001b[0;34m\u001b[0m\u001b[0m\n\u001b[1;32m   1216\u001b[0m         \u001b[0mself\u001b[0m\u001b[0;34m.\u001b[0m\u001b[0m_make_train_function\u001b[0m\u001b[0;34m(\u001b[0m\u001b[0;34m)\u001b[0m\u001b[0;34m\u001b[0m\u001b[0;34m\u001b[0m\u001b[0m\n\u001b[0;32m-> 1217\u001b[0;31m         \u001b[0moutputs\u001b[0m \u001b[0;34m=\u001b[0m \u001b[0mself\u001b[0m\u001b[0;34m.\u001b[0m\u001b[0mtrain_function\u001b[0m\u001b[0;34m(\u001b[0m\u001b[0mins\u001b[0m\u001b[0;34m)\u001b[0m\u001b[0;34m\u001b[0m\u001b[0;34m\u001b[0m\u001b[0m\n\u001b[0m\u001b[1;32m   1218\u001b[0m         \u001b[0;32mreturn\u001b[0m \u001b[0munpack_singleton\u001b[0m\u001b[0;34m(\u001b[0m\u001b[0moutputs\u001b[0m\u001b[0;34m)\u001b[0m\u001b[0;34m\u001b[0m\u001b[0;34m\u001b[0m\u001b[0m\n\u001b[1;32m   1219\u001b[0m \u001b[0;34m\u001b[0m\u001b[0m\n",
            "\u001b[0;32m/usr/local/lib/python3.6/dist-packages/keras/backend/tensorflow_backend.py\u001b[0m in \u001b[0;36m__call__\u001b[0;34m(self, inputs)\u001b[0m\n\u001b[1;32m   2713\u001b[0m                 \u001b[0;32mreturn\u001b[0m \u001b[0mself\u001b[0m\u001b[0;34m.\u001b[0m\u001b[0m_legacy_call\u001b[0m\u001b[0;34m(\u001b[0m\u001b[0minputs\u001b[0m\u001b[0;34m)\u001b[0m\u001b[0;34m\u001b[0m\u001b[0;34m\u001b[0m\u001b[0m\n\u001b[1;32m   2714\u001b[0m \u001b[0;34m\u001b[0m\u001b[0m\n\u001b[0;32m-> 2715\u001b[0;31m             \u001b[0;32mreturn\u001b[0m \u001b[0mself\u001b[0m\u001b[0;34m.\u001b[0m\u001b[0m_call\u001b[0m\u001b[0;34m(\u001b[0m\u001b[0minputs\u001b[0m\u001b[0;34m)\u001b[0m\u001b[0;34m\u001b[0m\u001b[0;34m\u001b[0m\u001b[0m\n\u001b[0m\u001b[1;32m   2716\u001b[0m         \u001b[0;32melse\u001b[0m\u001b[0;34m:\u001b[0m\u001b[0;34m\u001b[0m\u001b[0;34m\u001b[0m\u001b[0m\n\u001b[1;32m   2717\u001b[0m             \u001b[0;32mif\u001b[0m \u001b[0mpy_any\u001b[0m\u001b[0;34m(\u001b[0m\u001b[0mis_tensor\u001b[0m\u001b[0;34m(\u001b[0m\u001b[0mx\u001b[0m\u001b[0;34m)\u001b[0m \u001b[0;32mfor\u001b[0m \u001b[0mx\u001b[0m \u001b[0;32min\u001b[0m \u001b[0minputs\u001b[0m\u001b[0;34m)\u001b[0m\u001b[0;34m:\u001b[0m\u001b[0;34m\u001b[0m\u001b[0;34m\u001b[0m\u001b[0m\n",
            "\u001b[0;32m/usr/local/lib/python3.6/dist-packages/keras/backend/tensorflow_backend.py\u001b[0m in \u001b[0;36m_call\u001b[0;34m(self, inputs)\u001b[0m\n\u001b[1;32m   2673\u001b[0m             \u001b[0mfetched\u001b[0m \u001b[0;34m=\u001b[0m \u001b[0mself\u001b[0m\u001b[0;34m.\u001b[0m\u001b[0m_callable_fn\u001b[0m\u001b[0;34m(\u001b[0m\u001b[0;34m*\u001b[0m\u001b[0marray_vals\u001b[0m\u001b[0;34m,\u001b[0m \u001b[0mrun_metadata\u001b[0m\u001b[0;34m=\u001b[0m\u001b[0mself\u001b[0m\u001b[0;34m.\u001b[0m\u001b[0mrun_metadata\u001b[0m\u001b[0;34m)\u001b[0m\u001b[0;34m\u001b[0m\u001b[0;34m\u001b[0m\u001b[0m\n\u001b[1;32m   2674\u001b[0m         \u001b[0;32melse\u001b[0m\u001b[0;34m:\u001b[0m\u001b[0;34m\u001b[0m\u001b[0;34m\u001b[0m\u001b[0m\n\u001b[0;32m-> 2675\u001b[0;31m             \u001b[0mfetched\u001b[0m \u001b[0;34m=\u001b[0m \u001b[0mself\u001b[0m\u001b[0;34m.\u001b[0m\u001b[0m_callable_fn\u001b[0m\u001b[0;34m(\u001b[0m\u001b[0;34m*\u001b[0m\u001b[0marray_vals\u001b[0m\u001b[0;34m)\u001b[0m\u001b[0;34m\u001b[0m\u001b[0;34m\u001b[0m\u001b[0m\n\u001b[0m\u001b[1;32m   2676\u001b[0m         \u001b[0;32mreturn\u001b[0m \u001b[0mfetched\u001b[0m\u001b[0;34m[\u001b[0m\u001b[0;34m:\u001b[0m\u001b[0mlen\u001b[0m\u001b[0;34m(\u001b[0m\u001b[0mself\u001b[0m\u001b[0;34m.\u001b[0m\u001b[0moutputs\u001b[0m\u001b[0;34m)\u001b[0m\u001b[0;34m]\u001b[0m\u001b[0;34m\u001b[0m\u001b[0;34m\u001b[0m\u001b[0m\n\u001b[1;32m   2677\u001b[0m \u001b[0;34m\u001b[0m\u001b[0m\n",
            "\u001b[0;32m/usr/local/lib/python3.6/dist-packages/tensorflow/python/client/session.py\u001b[0m in \u001b[0;36m__call__\u001b[0;34m(self, *args, **kwargs)\u001b[0m\n\u001b[1;32m   1437\u001b[0m           ret = tf_session.TF_SessionRunCallable(\n\u001b[1;32m   1438\u001b[0m               \u001b[0mself\u001b[0m\u001b[0;34m.\u001b[0m\u001b[0m_session\u001b[0m\u001b[0;34m.\u001b[0m\u001b[0m_session\u001b[0m\u001b[0;34m,\u001b[0m \u001b[0mself\u001b[0m\u001b[0;34m.\u001b[0m\u001b[0m_handle\u001b[0m\u001b[0;34m,\u001b[0m \u001b[0margs\u001b[0m\u001b[0;34m,\u001b[0m \u001b[0mstatus\u001b[0m\u001b[0;34m,\u001b[0m\u001b[0;34m\u001b[0m\u001b[0;34m\u001b[0m\u001b[0m\n\u001b[0;32m-> 1439\u001b[0;31m               run_metadata_ptr)\n\u001b[0m\u001b[1;32m   1440\u001b[0m         \u001b[0;32mif\u001b[0m \u001b[0mrun_metadata\u001b[0m\u001b[0;34m:\u001b[0m\u001b[0;34m\u001b[0m\u001b[0;34m\u001b[0m\u001b[0m\n\u001b[1;32m   1441\u001b[0m           \u001b[0mproto_data\u001b[0m \u001b[0;34m=\u001b[0m \u001b[0mtf_session\u001b[0m\u001b[0;34m.\u001b[0m\u001b[0mTF_GetBuffer\u001b[0m\u001b[0;34m(\u001b[0m\u001b[0mrun_metadata_ptr\u001b[0m\u001b[0;34m)\u001b[0m\u001b[0;34m\u001b[0m\u001b[0;34m\u001b[0m\u001b[0m\n",
            "\u001b[0;31mKeyboardInterrupt\u001b[0m: "
          ]
        }
      ]
    },
    {
      "cell_type": "markdown",
      "metadata": {
        "id": "hEG4UxLo1rWD",
        "colab_type": "text"
      },
      "source": [
        "# 5. Смотрим на результаты"
      ]
    },
    {
      "cell_type": "code",
      "metadata": {
        "id": "R6ZxtghjBEG3",
        "colab_type": "code",
        "outputId": "c611c8fe-0822-4018-f5e7-e357902bcc07",
        "colab": {
          "base_uri": "https://localhost:8080/",
          "height": 120
        }
      },
      "source": [
        "gensamples(skips=2, batch_size=batch_size, k=10, temperature=1.)"
      ],
      "execution_count": 0,
      "outputs": [
        {
          "output_type": "stream",
          "text": [
            "HEAD: жертвами лисы^ стали 16 фламинго,^ проживавшие^ в зоопарке хельсинки\n",
            "DESC: москва, 9 апр - риа новости. дикая^ лиса^ в ночь на пятницу задрала^ всех розовых^ фламинго,^ проживавших^ в зоопарке хельсинки,^ всего погибло 16 птиц, передает финская^ радиостанция yle.^ зоопарк \"коркессари\"^ находится на одноименном^ острове к востоку от центра хельсинки.^ директор \"коркесаари\"^ юкка^ сало^ полагает, что задушившая^ фламинго^ лисица^ пробралась^ на\n",
            "HEADS:\n",
            "17.396252512931824 собаки в новгороде изучают льва\n",
            "18.302331553772092 в красноярском крае сняли екатеринбург\n"
          ],
          "name": "stdout"
        }
      ]
    },
    {
      "cell_type": "code",
      "metadata": {
        "id": "sxYz67ouBNit",
        "colab_type": "code",
        "outputId": "f2674cae-52a2-403d-891e-3a460d3facb7",
        "colab": {
          "base_uri": "https://localhost:8080/",
          "height": 104
        }
      },
      "source": [
        "gensamples(skips=2, batch_size=batch_size, k=10, temperature=1.)"
      ],
      "execution_count": 0,
      "outputs": [
        {
          "output_type": "stream",
          "text": [
            "HEAD: ангар^ горит в перми\n",
            "DESC: нижний новгород, 7 апр - риа новости. ангар^ на территории предприятия \"пермьхимопторг\"^ загорелся в среду в перми,^ сообщила пресс-служба приволжского регионального центра мчс россии. сообщение о возгорании поступило в 15.20^ мск. общая площадь пожара - 300 квадратных метров. \"в 15.53^ мск произошло обрушение половины площади ангара.^ на месте пожара развернуты^\n",
            "HEADS:\n",
            "5.151017937809229 пожар в ростовской области локализован\n"
          ],
          "name": "stdout"
        }
      ]
    },
    {
      "cell_type": "code",
      "metadata": {
        "id": "wrAb0FLVBxJj",
        "colab_type": "code",
        "outputId": "b491fa81-715d-433e-d218-9b7968a11a14",
        "colab": {
          "base_uri": "https://localhost:8080/",
          "height": 104
        }
      },
      "source": [
        "gensamples(skips=2, batch_size=batch_size, k=10, temperature=1.)"
      ],
      "execution_count": 0,
      "outputs": [
        {
          "output_type": "stream",
          "text": [
            "HEAD: пресс-конференция \"экология^ россии: 10 лет разрушения?\"^\n",
            "DESC: в пятницу, 4 июня, в 11.00 в российском агентстве международной информации риа новости состоится пресс-конференция на тему: \"экология^ россии: 10 лет разрушения?\",^ приуроченная ко всемирному дню окружающей среды. ликвидация самостоятельных^ природоохранных^ органов в 2000 году стала началом разрушения системы охраны природы в россии. это привело к росту экологических преступлений, невозможности\n",
            "HEADS:\n",
            "5.760379273444414 пресс-конференция \"экология^ россии: пресс-конференция\n"
          ],
          "name": "stdout"
        }
      ]
    },
    {
      "cell_type": "code",
      "metadata": {
        "id": "zzyahpivDKke",
        "colab_type": "code",
        "outputId": "0ae3b486-612d-4c33-b387-e4a3bf839f11",
        "colab": {
          "base_uri": "https://localhost:8080/",
          "height": 104
        }
      },
      "source": [
        "pip install rouge"
      ],
      "execution_count": 0,
      "outputs": [
        {
          "output_type": "stream",
          "text": [
            "Collecting rouge\n",
            "  Downloading https://files.pythonhosted.org/packages/8f/89/af359c22e1d858e0299d4cc9219f36b504817c9797acad23081247867845/rouge-0.3.1-py3-none-any.whl\n",
            "Installing collected packages: rouge\n",
            "Successfully installed rouge-0.3.1\n"
          ],
          "name": "stdout"
        }
      ]
    },
    {
      "cell_type": "code",
      "metadata": {
        "id": "B8wiELbxCrSN",
        "colab_type": "code",
        "outputId": "14f5d1bc-3cc2-4826-bce7-eae08c23693f",
        "colab": {
          "base_uri": "https://localhost:8080/",
          "height": 53
        }
      },
      "source": [
        "from rouge import Rouge\n",
        "\n",
        "\n",
        "hypothesis = 'жертвами лисы^ стали 16 фламинго,^ проживавшие^ в зоопарке хельсинки'\n",
        "reference = 'собаки в новгороде изучают льва'\n",
        "\n",
        "\n",
        "rouge = Rouge()\n",
        "scores = rouge.get_scores(hypothesis, reference)\n",
        "print(scores)"
      ],
      "execution_count": 0,
      "outputs": [
        {
          "output_type": "stream",
          "text": [
            "[{'rouge-1': {'f': 0.14285713826530627, 'p': 0.1111111111111111, 'r': 0.2}, 'rouge-2': {'f': 0.0, 'p': 0.0, 'r': 0.0}, 'rouge-l': {'f': 0.12412177985884394, 'p': 0.1111111111111111, 'r': 0.2}}]\n"
          ],
          "name": "stdout"
        }
      ]
    },
    {
      "cell_type": "code",
      "metadata": {
        "id": "Q91TTEBRDfDI",
        "colab_type": "code",
        "outputId": "cf6163f9-6ab6-4ce9-a99b-943e48fc1031",
        "colab": {
          "base_uri": "https://localhost:8080/",
          "height": 53
        }
      },
      "source": [
        "hypothesis = 'пресс-конференция \"экология^ россии: 10 лет разрушения?\"^'\n",
        "reference = 'пресс-конференция \"экология^ россии: пресс-конференция'\n",
        "\n",
        "\n",
        "rouge = Rouge()\n",
        "scores = rouge.get_scores(hypothesis, reference)\n",
        "print(scores)"
      ],
      "execution_count": 0,
      "outputs": [
        {
          "output_type": "stream",
          "text": [
            "[{'rouge-1': {'f': 0.6666666622222223, 'p': 0.5, 'r': 1.0}, 'rouge-2': {'f': 0.49999999531250006, 'p': 0.4, 'r': 0.6666666666666666}, 'rouge-l': {'f': 0.5555555555549629, 'p': 0.5, 'r': 1.0}}]\n"
          ],
          "name": "stdout"
        }
      ]
    }
  ]
}
