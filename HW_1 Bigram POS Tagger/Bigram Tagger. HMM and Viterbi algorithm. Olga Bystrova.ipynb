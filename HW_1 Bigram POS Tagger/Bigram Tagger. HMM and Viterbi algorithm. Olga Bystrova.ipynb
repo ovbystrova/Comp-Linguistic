{
 "cells": [
  {
   "cell_type": "code",
   "execution_count": 199,
   "metadata": {},
   "outputs": [],
   "source": [
    "import nltk\n",
    "import re\n",
    "from nltk.corpus import conll2000\n",
    "from collections import Counter"
   ]
  },
  {
   "cell_type": "code",
   "execution_count": 200,
   "metadata": {},
   "outputs": [
    {
     "name": "stdout",
     "output_type": "stream",
     "text": [
      "Requirement already satisfied: conllu in c:\\users\\user\\anaconda3\\lib\\site-packages (1.2.1)\n"
     ]
    }
   ],
   "source": [
    "!pip install conllu"
   ]
  },
  {
   "cell_type": "code",
   "execution_count": 201,
   "metadata": {},
   "outputs": [],
   "source": [
    "from conllu import parse_incr"
   ]
  },
  {
   "cell_type": "markdown",
   "metadata": {},
   "source": [
    "# Загружаем данные"
   ]
  },
  {
   "cell_type": "code",
   "execution_count": 202,
   "metadata": {},
   "outputs": [],
   "source": [
    "train_s = []\n",
    "test_s = []\n",
    "train_corpus = 'en_ewt-ud-train.conllu'\n",
    "test_corpus = 'en_ewt-ud-test.conllu'\n",
    "with open(train_corpus, 'r', encoding='utf-8') as train:\n",
    "    for s in parse_incr(train):\n",
    "        train_s.append([(token['form'], token['upostag']) for token in s])\n",
    "with open(test_corpus, 'r', encoding='utf-8') as test:\n",
    "    for s in parse_incr(test):\n",
    "        test_s.append([(token['form'], token['upostag']) for token in s])"
   ]
  },
  {
   "cell_type": "code",
   "execution_count": 203,
   "metadata": {},
   "outputs": [
    {
     "name": "stdout",
     "output_type": "stream",
     "text": [
      "[('Al', 'PROPN'), ('-', 'PUNCT'), ('Zaman', 'PROPN'), (':', 'PUNCT'), ('American', 'ADJ'), ('forces', 'NOUN'), ('killed', 'VERB'), ('Shaikh', 'PROPN'), ('Abdullah', 'PROPN'), ('al', 'PROPN'), ('-', 'PUNCT'), ('Ani', 'PROPN'), (',', 'PUNCT'), ('the', 'DET'), ('preacher', 'NOUN'), ('at', 'ADP'), ('the', 'DET'), ('mosque', 'NOUN'), ('in', 'ADP'), ('the', 'DET'), ('town', 'NOUN'), ('of', 'ADP'), ('Qaim', 'PROPN'), (',', 'PUNCT'), ('near', 'ADP'), ('the', 'DET'), ('Syrian', 'ADJ'), ('border', 'NOUN'), ('.', 'PUNCT')]\n",
      "\n",
      "[('What', 'PRON'), ('if', 'SCONJ'), ('Google', 'PROPN'), ('Morphed', 'VERB'), ('Into', 'ADP'), ('GoogleOS', 'PROPN'), ('?', 'PUNCT')]\n"
     ]
    }
   ],
   "source": [
    "print(train_s[0], test_s[0], sep='\\n\\n')"
   ]
  },
  {
   "cell_type": "code",
   "execution_count": 204,
   "metadata": {},
   "outputs": [],
   "source": [
    "conll2000.ensure_loaded()\n",
    "train_sents_conll = conll2000.tagged_sents()[:8000]\n",
    "test_sents_conll = conll2000.tagged_sents()[8000:]"
   ]
  },
  {
   "cell_type": "markdown",
   "metadata": {},
   "source": [
    "# Задаем метрику и нормализацию"
   ]
  },
  {
   "cell_type": "code",
   "execution_count": 205,
   "metadata": {},
   "outputs": [],
   "source": [
    "def accuracy(test_sents, postagger):\n",
    "    errors = 0\n",
    "    length = 0\n",
    "    for sent in test_sents:\n",
    "        length += len(sent)\n",
    "        sent, real_tags = zip(*sent)\n",
    "        my_tags = postagger.tag(sent)\n",
    "        for i in range(len(my_tags)):\n",
    "            if my_tags[i][1] != real_tags[i]:\n",
    "                errors += 1\n",
    "    return 1 - errors / length"
   ]
  },
  {
   "cell_type": "code",
   "execution_count": 206,
   "metadata": {},
   "outputs": [],
   "source": [
    "# Нормализатор для получения распределения вероятностей из частот\n",
    "class BaseNormalizer:\n",
    "    def normalize(self, counter):\n",
    "        sum_ = sum(counter.values())\n",
    "        for token in counter:\n",
    "            counter[token] /= sum_\n",
    "        return counter"
   ]
  },
  {
   "cell_type": "markdown",
   "metadata": {},
   "source": [
    "# Делаем Биграмный POS-tagger с HMM и алгоритмом Витерби"
   ]
  },
  {
   "cell_type": "markdown",
   "metadata": {},
   "source": [
    "(За основу взят ноутбук с семинара:(https://yadi.sk/d/i_5bmwHgWNJZ8g/%D0%97%D0%B0%D0%BD%D1%8F%D1%82%D0%B8%D0%B5%202/2-hands-on-class.ipynb)\n",
    "\n"
   ]
  },
  {
   "cell_type": "code",
   "execution_count": 207,
   "metadata": {},
   "outputs": [],
   "source": [
    "from collections import defaultdict\n",
    "#По умолчанию для каждого нового ключа создает обьект нужного типа"
   ]
  },
  {
   "cell_type": "markdown",
   "metadata": {},
   "source": [
    "## Bigram tagger\n",
    "Для каждого слова будем выбирать наиболее вероятный тег, учитывая общую вероятность самого тега + предыдущего слова\n",
    "$$\n",
    "     tag(w) = \\arg \\max_{i \\in 1 .. |Tags| } P(w \\mid tag_i)P(tag_i \\mid tag_{i-1})\n",
    "$$\n",
    "Для этого нам понадобятся новые классы:\n",
    "\n",
    "**EmissionModel**, хранящий для каждого тега вероятности быть присвоенным тому или иному слову.\n",
    "\n",
    "**TransitionModel**, отвечающий за вероятность $P(tag_i \\mid tag_{i-1})$.\n",
    "\n",
    "**BigramPOSTagger**, сопоставляющий последовательности слов последовательность тегов."
   ]
  },
  {
   "cell_type": "code",
   "execution_count": 208,
   "metadata": {},
   "outputs": [],
   "source": [
    "class EmissionModel:\n",
    "    def __init__(self, tagged_sents, normalizer=BaseNormalizer()):\n",
    "        self.normalizer = normalizer\n",
    "        self.model = defaultdict(Counter)\n",
    "        # self.model будет иметь вид \n",
    "        # defaultdict({'tag_1': Counter({'word_1': 0.3, 'word_2': 0.7}), 'tag_2': Counter({'word_1': 0.6, 'word_3': 0.3 ...})})\n",
    "        for sent in tagged_sents:\n",
    "            for word, tag in sent:\n",
    "                self.model[tag][word] += 1\n",
    "        self.add_unk_token()\n",
    "        for tag in self.model:\n",
    "            self.normalizer.normalize(self.model[tag])\n",
    "        \n",
    "    def add_unk_token(self):\n",
    "        # Для каждого тега добавим одинаковую вероятность быть приписанным любому слову, которого нет в модели\n",
    "        for tag in self.model:\n",
    "            self.model[tag][\"UNK\"] = 0.1\n",
    "        \n",
    "    def tags(self):\n",
    "        # Добавим возможность возвращать все теги, которые есть в модели\n",
    "        return self.model.keys()\n",
    "    \n",
    "    def __getitem__(self, tag):\n",
    "        # Все слова для данного тега\n",
    "        return self.model[tag]\n",
    "    \n",
    "    def __call__(self, word, tag):\n",
    "        # Самое интересное - вероятность P(word|tag)\n",
    "        if word not in self[tag]:\n",
    "            return self[tag]['UNK']\n",
    "        return self[tag][word]"
   ]
  },
  {
   "cell_type": "code",
   "execution_count": 209,
   "metadata": {},
   "outputs": [],
   "source": [
    "class TransitionModel:\n",
    "    def __init__(self, tag_seqs, normalizer=BaseNormalizer()):\n",
    "        self.normalizer = normalizer\n",
    "        self.model = defaultdict(Counter)\n",
    "        for sent in tag_seqs:\n",
    "            for i, tag in enumerate(sent):\n",
    "                if i==0:\n",
    "                    self.model['START'][sent[0]] += 1\n",
    "                else:\n",
    "                    self.model[sent[i - 1]][sent[i]] += 1\n",
    "        for s in self.model:\n",
    "            self.normalizer.normalize(self.model[s])\n",
    "        \n",
    "    def tags(self):\n",
    "        return self.model.keys()\n",
    "    \n",
    "    def __getitem__(self, tag):\n",
    "        return self.model[tag]\n",
    "    \n",
    "    def __call__(self, tag, pr_tag):\n",
    "        return self.model[pr_tag][tag]"
   ]
  },
  {
   "cell_type": "code",
   "execution_count": 210,
   "metadata": {},
   "outputs": [],
   "source": [
    "class BigramPOSTagger:\n",
    "    def __init__(self, emission_model, transition_model):\n",
    "        self.em = emission_model\n",
    "        self.tm = transition_model\n",
    "        \n",
    "    def tag(self, sent):\n",
    "        tags = []\n",
    "        for i in range(len(sent)):\n",
    "            word = sent[i]\n",
    "            if i == 0:\n",
    "                pre_t = 'START'\n",
    "            else:\n",
    "                pre_t = tags[i - 1]\n",
    "            max_prob = 0\n",
    "            best_tag = 'UNK'\n",
    "            for t in self.tm.tags():\n",
    "                prob = self.em(word, t) * self.tm(t, pre_t)\n",
    "                if prob > max_prob:\n",
    "                    max_prob, best_tag = prob, t\n",
    "            tags.append(best_tag)\n",
    "        return list(zip(sent, tags))"
   ]
  },
  {
   "cell_type": "markdown",
   "metadata": {},
   "source": [
    "# Обучаем и проверяем"
   ]
  },
  {
   "cell_type": "code",
   "execution_count": 211,
   "metadata": {},
   "outputs": [
    {
     "data": {
      "text/plain": [
       "0.8385065944136749"
      ]
     },
     "execution_count": 211,
     "metadata": {},
     "output_type": "execute_result"
    }
   ],
   "source": [
    "# Проверяем! Теггер корпуса Universal Dependencies\n",
    "em = EmissionModel(train_s)\n",
    "tm = TransitionModel([[tag for word, tag in sent] for sent in train_s])\n",
    "bigram_postagger = BigramPOSTagger(em, tm)\n",
    "accuracy(test_s, bigram_postagger)"
   ]
  },
  {
   "cell_type": "code",
   "execution_count": 212,
   "metadata": {},
   "outputs": [
    {
     "data": {
      "text/plain": [
       "0.8722227025157776"
      ]
     },
     "execution_count": 212,
     "metadata": {},
     "output_type": "execute_result"
    }
   ],
   "source": [
    "#Проверяем! Теггер корпуса conll2000\n",
    "em_conll = EmissionModel(train_sents_conll)\n",
    "tm_conll = TransitionModel([[tag for word, tag in sent] for sent in train_sents_conll])\n",
    "bigram_postagger_conll = BigramPOSTagger(em_conll, tm_conll)\n",
    "accuracy(test_sents_conll, bigram_postagger_conll)"
   ]
  },
  {
   "cell_type": "markdown",
   "metadata": {},
   "source": [
    "Как мы видим, теггер, обученный на корпусе conll200 показывает более высокую точность. Посмотрим, что показывают теггеры(Предложение из учебника Jurafsky + Martin про POS-tagging):"
   ]
  },
  {
   "cell_type": "code",
   "execution_count": 213,
   "metadata": {},
   "outputs": [
    {
     "data": {
      "text/plain": [
       "[('Janet', 'PROPN'),\n",
       " ('will', 'AUX'),\n",
       " ('back', 'ADV'),\n",
       " ('the', 'DET'),\n",
       " ('bill', 'NOUN')]"
      ]
     },
     "execution_count": 213,
     "metadata": {},
     "output_type": "execute_result"
    }
   ],
   "source": [
    "bigram_postagger.tag('Janet will back the bill'.split())"
   ]
  },
  {
   "cell_type": "code",
   "execution_count": 214,
   "metadata": {},
   "outputs": [
    {
     "data": {
      "text/plain": [
       "[('Janet', 'NNP'),\n",
       " ('will', 'MD'),\n",
       " ('back', 'RB'),\n",
       " ('the', 'DT'),\n",
       " ('bill', 'NN')]"
      ]
     },
     "execution_count": 214,
     "metadata": {},
     "output_type": "execute_result"
    }
   ],
   "source": [
    "bigram_postagger_conll.tag('Janet will back the bill'.split())"
   ]
  },
  {
   "cell_type": "markdown",
   "metadata": {},
   "source": [
    "Правильное решение: Janet NNP, will MD, back VB, the DT, bill NN."
   ]
  }
 ],
 "metadata": {
  "kernelspec": {
   "display_name": "Python 3",
   "language": "python",
   "name": "python3"
  },
  "language_info": {
   "codemirror_mode": {
    "name": "ipython",
    "version": 3
   },
   "file_extension": ".py",
   "mimetype": "text/x-python",
   "name": "python",
   "nbconvert_exporter": "python",
   "pygments_lexer": "ipython3",
   "version": "3.7.1"
  }
 },
 "nbformat": 4,
 "nbformat_minor": 2
}
