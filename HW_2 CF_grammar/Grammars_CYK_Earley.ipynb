{
 "cells": [
  {
   "cell_type": "code",
   "execution_count": 63,
   "metadata": {},
   "outputs": [],
   "source": [
    "import nltk\n",
    "import re"
   ]
  },
  {
   "cell_type": "code",
   "execution_count": 64,
   "metadata": {},
   "outputs": [],
   "source": [
    "sents = ['Вася читает мою книгу', 'Напиши какое-нибудь письмо',\n",
    "         'Этот веселый мальчик идет', 'Он любит читать всякие книги']"
   ]
  },
  {
   "cell_type": "code",
   "execution_count": 65,
   "metadata": {},
   "outputs": [],
   "source": [
    "rules = \"\"\"\n",
    "    S -> NP VP | NP V | VP\n",
    "    NP -> ADJ NP | ADJ N | NN | N\n",
    "    VP -> V NP | V VP | V\n",
    "    NN -> 'Вася'\n",
    "    N -> 'книгу' | 'письмо' | 'мальчик' | 'Он' | 'книги'\n",
    "    V -> 'читает' | 'Напиши' | 'идет' | 'любит' | 'читать'\n",
    "    ADJ -> 'мою' | 'какое-нибудь' | 'Этот' | 'веселый' | 'всякие'\n",
    "\"\"\".split('\\n')"
   ]
  },
  {
   "cell_type": "code",
   "execution_count": 66,
   "metadata": {},
   "outputs": [],
   "source": [
    "grammar = nltk.CFG.fromstring('\\n'.join(rules))"
   ]
  },
  {
   "cell_type": "code",
   "execution_count": 67,
   "metadata": {},
   "outputs": [],
   "source": [
    "def print_parses(parser, sentence):\n",
    "    for tree in parser.parse(sentence.split()):\n",
    "        print(tree)\n",
    "        print()"
   ]
  },
  {
   "cell_type": "markdown",
   "metadata": {},
   "source": [
    "# Алгоритм Кока-Янгера-Касами (CYK)\n"
   ]
  },
  {
   "cell_type": "code",
   "execution_count": 68,
   "metadata": {},
   "outputs": [],
   "source": [
    "S = 'Вася читает мою книгу'"
   ]
  },
  {
   "cell_type": "code",
   "execution_count": 69,
   "metadata": {},
   "outputs": [
    {
     "data": {
      "text/html": [
       "<div>\n",
       "<style scoped>\n",
       "    .dataframe tbody tr th:only-of-type {\n",
       "        vertical-align: middle;\n",
       "    }\n",
       "\n",
       "    .dataframe tbody tr th {\n",
       "        vertical-align: top;\n",
       "    }\n",
       "\n",
       "    .dataframe thead th {\n",
       "        text-align: right;\n",
       "    }\n",
       "</style>\n",
       "<table border=\"1\" class=\"dataframe\">\n",
       "  <thead>\n",
       "    <tr style=\"text-align: right;\">\n",
       "      <th></th>\n",
       "      <th>0</th>\n",
       "      <th>1</th>\n",
       "      <th>2</th>\n",
       "      <th>3</th>\n",
       "    </tr>\n",
       "  </thead>\n",
       "  <tbody>\n",
       "    <tr>\n",
       "      <th>0</th>\n",
       "      <td>S</td>\n",
       "      <td></td>\n",
       "      <td></td>\n",
       "      <td></td>\n",
       "    </tr>\n",
       "    <tr>\n",
       "      <th>1</th>\n",
       "      <td></td>\n",
       "      <td>VP</td>\n",
       "      <td></td>\n",
       "      <td></td>\n",
       "    </tr>\n",
       "    <tr>\n",
       "      <th>2</th>\n",
       "      <td>NP</td>\n",
       "      <td></td>\n",
       "      <td>NP</td>\n",
       "      <td></td>\n",
       "    </tr>\n",
       "    <tr>\n",
       "      <th>3</th>\n",
       "      <td>NN</td>\n",
       "      <td>V</td>\n",
       "      <td>ADJ</td>\n",
       "      <td>N</td>\n",
       "    </tr>\n",
       "    <tr>\n",
       "      <th>4</th>\n",
       "      <td>Вася</td>\n",
       "      <td>читает</td>\n",
       "      <td>мою</td>\n",
       "      <td>книгу</td>\n",
       "    </tr>\n",
       "  </tbody>\n",
       "</table>\n",
       "</div>"
      ],
      "text/plain": [
       "      0       1    2      3\n",
       "0     S                    \n",
       "1            VP            \n",
       "2    NP           NP       \n",
       "3    NN       V  ADJ      N\n",
       "4  Вася  читает  мою  книгу"
      ]
     },
     "execution_count": 69,
     "metadata": {},
     "output_type": "execute_result"
    }
   ],
   "source": [
    "import pandas as pd\n",
    "data = [['S', '', '', ''], \n",
    "        ['', 'VP', '', ''], \n",
    "        ['NP', '', 'NP', ''], \n",
    "        ['NN', 'V', 'ADJ', 'N'], \n",
    "        ['Вася', 'читает', 'мою', 'книгу']]\n",
    "pd.DataFrame(data)"
   ]
  },
  {
   "cell_type": "markdown",
   "metadata": {},
   "source": [
    "Сработавшие правила:  \n",
    "    1)NN -> Вася, V -> читает, ADJ -> мою, N -> книгу  \n",
    "    2)NP -> NN, NP -> ADJ N  \n",
    "    3)VP -> V NP  \n",
    "    4)S -> VP NP  "
   ]
  },
  {
   "cell_type": "markdown",
   "metadata": {},
   "source": [
    "# Алгоритм Эрли"
   ]
  },
  {
   "cell_type": "markdown",
   "metadata": {},
   "source": [
    "За основу взята 13 глава учебника Jurafsky + Martin (2 изд.). "
   ]
  },
  {
   "cell_type": "code",
   "execution_count": 70,
   "metadata": {},
   "outputs": [],
   "source": [
    "S = 'Вася читает мою книгу'"
   ]
  },
  {
   "cell_type": "code",
   "execution_count": 71,
   "metadata": {},
   "outputs": [
    {
     "data": {
      "text/html": [
       "<div>\n",
       "<style scoped>\n",
       "    .dataframe tbody tr th:only-of-type {\n",
       "        vertical-align: middle;\n",
       "    }\n",
       "\n",
       "    .dataframe tbody tr th {\n",
       "        vertical-align: top;\n",
       "    }\n",
       "\n",
       "    .dataframe thead th {\n",
       "        text-align: right;\n",
       "    }\n",
       "</style>\n",
       "<table border=\"1\" class=\"dataframe\">\n",
       "  <thead>\n",
       "    <tr style=\"text-align: right;\">\n",
       "      <th></th>\n",
       "      <th>from to</th>\n",
       "      <th>item</th>\n",
       "      <th>function</th>\n",
       "    </tr>\n",
       "  </thead>\n",
       "  <tbody>\n",
       "    <tr>\n",
       "      <th>0</th>\n",
       "      <td>[0:0]</td>\n",
       "      <td>S -&gt; * NP VP</td>\n",
       "      <td>predictor</td>\n",
       "    </tr>\n",
       "    <tr>\n",
       "      <th>1</th>\n",
       "      <td>[0:0]</td>\n",
       "      <td>S -&gt; * NP V</td>\n",
       "      <td>predictor</td>\n",
       "    </tr>\n",
       "    <tr>\n",
       "      <th>2</th>\n",
       "      <td>[0:0]</td>\n",
       "      <td>S -&gt; * VP</td>\n",
       "      <td>predictor</td>\n",
       "    </tr>\n",
       "    <tr>\n",
       "      <th>3</th>\n",
       "      <td>[0:0]</td>\n",
       "      <td>VP -&gt; * V NP</td>\n",
       "      <td>predictor</td>\n",
       "    </tr>\n",
       "    <tr>\n",
       "      <th>4</th>\n",
       "      <td>[0:0]</td>\n",
       "      <td>VP -&gt; * V VP</td>\n",
       "      <td>predictor</td>\n",
       "    </tr>\n",
       "    <tr>\n",
       "      <th>5</th>\n",
       "      <td>[0:0]</td>\n",
       "      <td>VP -&gt; * V</td>\n",
       "      <td>predictor</td>\n",
       "    </tr>\n",
       "    <tr>\n",
       "      <th>6</th>\n",
       "      <td>[0:0]</td>\n",
       "      <td>NP -&gt; * ADJ NP</td>\n",
       "      <td>predictor</td>\n",
       "    </tr>\n",
       "    <tr>\n",
       "      <th>7</th>\n",
       "      <td>[0:0]</td>\n",
       "      <td>NP -&gt; * ADJ N</td>\n",
       "      <td>predictor</td>\n",
       "    </tr>\n",
       "    <tr>\n",
       "      <th>8</th>\n",
       "      <td>[0:0]</td>\n",
       "      <td>NP -&gt; * NN</td>\n",
       "      <td>predictor</td>\n",
       "    </tr>\n",
       "    <tr>\n",
       "      <th>9</th>\n",
       "      <td>[0:0]</td>\n",
       "      <td>NP -&gt; * N</td>\n",
       "      <td>predictor</td>\n",
       "    </tr>\n",
       "  </tbody>\n",
       "</table>\n",
       "</div>"
      ],
      "text/plain": [
       "  from to            item   function\n",
       "0   [0:0]    S -> * NP VP  predictor\n",
       "1   [0:0]     S -> * NP V  predictor\n",
       "2   [0:0]       S -> * VP  predictor\n",
       "3   [0:0]    VP -> * V NP  predictor\n",
       "4   [0:0]    VP -> * V VP  predictor\n",
       "5   [0:0]       VP -> * V  predictor\n",
       "6   [0:0]  NP -> * ADJ NP  predictor\n",
       "7   [0:0]   NP -> * ADJ N  predictor\n",
       "8   [0:0]      NP -> * NN  predictor\n",
       "9   [0:0]       NP -> * N  predictor"
      ]
     },
     "execution_count": 71,
     "metadata": {},
     "output_type": "execute_result"
    }
   ],
   "source": [
    "#Chart[0]\n",
    "data = [['[0:0]', 'S -> * NP VP', 'predictor'], \n",
    "        ['[0:0]', 'S -> * NP V', 'predictor'], \n",
    "        ['[0:0]', 'S -> * VP', 'predictor'],\n",
    "        ['[0:0]', 'VP -> * V NP', 'predictor'], \n",
    "        ['[0:0]', 'VP -> * V VP', 'predictor'],\n",
    "        ['[0:0]', 'VP -> * V', 'predictor'],\n",
    "        ['[0:0]', 'NP -> * ADJ NP', 'predictor'],\n",
    "        ['[0:0]', 'NP -> * ADJ N', 'predictor'],\n",
    "        ['[0:0]', 'NP -> * NN', 'predictor'],\n",
    "        ['[0:0]', 'NP -> * N', 'predictor'],]\n",
    "pd.DataFrame(data, columns = ['from to', 'item', 'function'])"
   ]
  },
  {
   "cell_type": "code",
   "execution_count": 72,
   "metadata": {},
   "outputs": [
    {
     "data": {
      "text/html": [
       "<div>\n",
       "<style scoped>\n",
       "    .dataframe tbody tr th:only-of-type {\n",
       "        vertical-align: middle;\n",
       "    }\n",
       "\n",
       "    .dataframe tbody tr th {\n",
       "        vertical-align: top;\n",
       "    }\n",
       "\n",
       "    .dataframe thead th {\n",
       "        text-align: right;\n",
       "    }\n",
       "</style>\n",
       "<table border=\"1\" class=\"dataframe\">\n",
       "  <thead>\n",
       "    <tr style=\"text-align: right;\">\n",
       "      <th></th>\n",
       "      <th>from to</th>\n",
       "      <th>item</th>\n",
       "      <th>function</th>\n",
       "    </tr>\n",
       "  </thead>\n",
       "  <tbody>\n",
       "    <tr>\n",
       "      <th>0</th>\n",
       "      <td>[0:1]</td>\n",
       "      <td>N -&gt; 'Вася' *</td>\n",
       "      <td>scanner</td>\n",
       "    </tr>\n",
       "    <tr>\n",
       "      <th>1</th>\n",
       "      <td>[0:1]</td>\n",
       "      <td>NP -&gt; NN *</td>\n",
       "      <td>completer</td>\n",
       "    </tr>\n",
       "    <tr>\n",
       "      <th>2</th>\n",
       "      <td>[0:1]</td>\n",
       "      <td>S -&gt; * VP</td>\n",
       "      <td>completer</td>\n",
       "    </tr>\n",
       "    <tr>\n",
       "      <th>3</th>\n",
       "      <td>[0:1]</td>\n",
       "      <td>S  -&gt; NP * VP</td>\n",
       "      <td>completer</td>\n",
       "    </tr>\n",
       "    <tr>\n",
       "      <th>4</th>\n",
       "      <td>[1:1]</td>\n",
       "      <td>VP -&gt; * V NP</td>\n",
       "      <td>predictor</td>\n",
       "    </tr>\n",
       "    <tr>\n",
       "      <th>5</th>\n",
       "      <td>[1:1]</td>\n",
       "      <td>VP -&gt; * V VP</td>\n",
       "      <td>predictor</td>\n",
       "    </tr>\n",
       "    <tr>\n",
       "      <th>6</th>\n",
       "      <td>[1:1]</td>\n",
       "      <td>VP -&gt; * V</td>\n",
       "      <td>predictor</td>\n",
       "    </tr>\n",
       "  </tbody>\n",
       "</table>\n",
       "</div>"
      ],
      "text/plain": [
       "  from to           item   function\n",
       "0   [0:1]  N -> 'Вася' *    scanner\n",
       "1   [0:1]     NP -> NN *  completer\n",
       "2   [0:1]      S -> * VP  completer\n",
       "3   [0:1]  S  -> NP * VP  completer\n",
       "4   [1:1]   VP -> * V NP  predictor\n",
       "5   [1:1]   VP -> * V VP  predictor\n",
       "6   [1:1]      VP -> * V  predictor"
      ]
     },
     "execution_count": 72,
     "metadata": {},
     "output_type": "execute_result"
    }
   ],
   "source": [
    "#Chart[1]\n",
    "data = [['[0:1]', '''N -> 'Вася' *''', 'scanner'], \n",
    "        ['[0:1]', 'NP -> NN *', 'completer'], \n",
    "        ['[0:1]', 'S -> * VP', 'completer'],\n",
    "        ['[0:1]', 'S  -> NP * VP', 'completer'], \n",
    "        ['[1:1]', 'VP -> * V NP', 'predictor'],\n",
    "        ['[1:1]', 'VP -> * V VP', 'predictor'],\n",
    "        ['[1:1]', 'VP -> * V', 'predictor'],]\n",
    "pd.DataFrame(data, columns = ['from to', 'item', 'function'])"
   ]
  },
  {
   "cell_type": "code",
   "execution_count": 73,
   "metadata": {},
   "outputs": [
    {
     "data": {
      "text/html": [
       "<div>\n",
       "<style scoped>\n",
       "    .dataframe tbody tr th:only-of-type {\n",
       "        vertical-align: middle;\n",
       "    }\n",
       "\n",
       "    .dataframe tbody tr th {\n",
       "        vertical-align: top;\n",
       "    }\n",
       "\n",
       "    .dataframe thead th {\n",
       "        text-align: right;\n",
       "    }\n",
       "</style>\n",
       "<table border=\"1\" class=\"dataframe\">\n",
       "  <thead>\n",
       "    <tr style=\"text-align: right;\">\n",
       "      <th></th>\n",
       "      <th>from to</th>\n",
       "      <th>item</th>\n",
       "      <th>function</th>\n",
       "    </tr>\n",
       "  </thead>\n",
       "  <tbody>\n",
       "    <tr>\n",
       "      <th>0</th>\n",
       "      <td>[1:2]</td>\n",
       "      <td>V -&gt; 'читает' *</td>\n",
       "      <td>scanner</td>\n",
       "    </tr>\n",
       "    <tr>\n",
       "      <th>1</th>\n",
       "      <td>[0:2]</td>\n",
       "      <td>S  -&gt; NP VP *</td>\n",
       "      <td>completer</td>\n",
       "    </tr>\n",
       "    <tr>\n",
       "      <th>2</th>\n",
       "      <td>[1:2]</td>\n",
       "      <td>VP -&gt; V * NP</td>\n",
       "      <td>completer</td>\n",
       "    </tr>\n",
       "    <tr>\n",
       "      <th>3</th>\n",
       "      <td>[1:2]</td>\n",
       "      <td>VP -&gt; V * VP</td>\n",
       "      <td>completer</td>\n",
       "    </tr>\n",
       "    <tr>\n",
       "      <th>4</th>\n",
       "      <td>[0:2]</td>\n",
       "      <td>S  -&gt; NP VP *</td>\n",
       "      <td>completer</td>\n",
       "    </tr>\n",
       "    <tr>\n",
       "      <th>5</th>\n",
       "      <td>[2:2]</td>\n",
       "      <td>VP -&gt; * V NP</td>\n",
       "      <td>predictor</td>\n",
       "    </tr>\n",
       "    <tr>\n",
       "      <th>6</th>\n",
       "      <td>[2:2]</td>\n",
       "      <td>VP -&gt; * V VP</td>\n",
       "      <td>predictor</td>\n",
       "    </tr>\n",
       "    <tr>\n",
       "      <th>7</th>\n",
       "      <td>[2:2]</td>\n",
       "      <td>VP -&gt; * V</td>\n",
       "      <td>predictor</td>\n",
       "    </tr>\n",
       "    <tr>\n",
       "      <th>8</th>\n",
       "      <td>[2:2]</td>\n",
       "      <td>NP -&gt; * ADJ NP</td>\n",
       "      <td>predictor</td>\n",
       "    </tr>\n",
       "    <tr>\n",
       "      <th>9</th>\n",
       "      <td>[2:2]</td>\n",
       "      <td>NP -&gt; * ADJ N</td>\n",
       "      <td>predictor</td>\n",
       "    </tr>\n",
       "    <tr>\n",
       "      <th>10</th>\n",
       "      <td>[2:2]</td>\n",
       "      <td>NP -&gt; * NN</td>\n",
       "      <td>predictor</td>\n",
       "    </tr>\n",
       "    <tr>\n",
       "      <th>11</th>\n",
       "      <td>[2:2]</td>\n",
       "      <td>NP -&gt; * N</td>\n",
       "      <td>predictor</td>\n",
       "    </tr>\n",
       "  </tbody>\n",
       "</table>\n",
       "</div>"
      ],
      "text/plain": [
       "   from to             item   function\n",
       "0    [1:2]  V -> 'читает' *    scanner\n",
       "1    [0:2]    S  -> NP VP *  completer\n",
       "2    [1:2]     VP -> V * NP  completer\n",
       "3    [1:2]     VP -> V * VP  completer\n",
       "4    [0:2]    S  -> NP VP *  completer\n",
       "5    [2:2]     VP -> * V NP  predictor\n",
       "6    [2:2]     VP -> * V VP  predictor\n",
       "7    [2:2]        VP -> * V  predictor\n",
       "8    [2:2]   NP -> * ADJ NP  predictor\n",
       "9    [2:2]    NP -> * ADJ N  predictor\n",
       "10   [2:2]       NP -> * NN  predictor\n",
       "11   [2:2]        NP -> * N  predictor"
      ]
     },
     "execution_count": 73,
     "metadata": {},
     "output_type": "execute_result"
    }
   ],
   "source": [
    "#Chart[2]\n",
    "data = [['[1:2]', '''V -> 'читает' *''', 'scanner'], \n",
    "        ['[0:2]', 'S  -> NP VP *', 'completer'],\n",
    "        ['[1:2]', 'VP -> V * NP', 'completer'], \n",
    "        ['[1:2]', 'VP -> V * VP', 'completer'], \n",
    "        ['[0:2]', 'S  -> NP VP *', 'completer'],\n",
    "        ['[2:2]', 'VP -> * V NP', 'predictor'],\n",
    "        ['[2:2]', 'VP -> * V VP', 'predictor'],\n",
    "        ['[2:2]', 'VP -> * V', 'predictor'],\n",
    "        ['[2:2]', 'NP -> * ADJ NP', 'predictor'],\n",
    "        ['[2:2]', 'NP -> * ADJ N', 'predictor'],\n",
    "        ['[2:2]', 'NP -> * NN', 'predictor'],\n",
    "        ['[2:2]', 'NP -> * N', 'predictor']]\n",
    "pd.DataFrame(data, columns = ['from to', 'item', 'function'])"
   ]
  },
  {
   "cell_type": "code",
   "execution_count": 74,
   "metadata": {},
   "outputs": [
    {
     "data": {
      "text/html": [
       "<div>\n",
       "<style scoped>\n",
       "    .dataframe tbody tr th:only-of-type {\n",
       "        vertical-align: middle;\n",
       "    }\n",
       "\n",
       "    .dataframe tbody tr th {\n",
       "        vertical-align: top;\n",
       "    }\n",
       "\n",
       "    .dataframe thead th {\n",
       "        text-align: right;\n",
       "    }\n",
       "</style>\n",
       "<table border=\"1\" class=\"dataframe\">\n",
       "  <thead>\n",
       "    <tr style=\"text-align: right;\">\n",
       "      <th></th>\n",
       "      <th>from to</th>\n",
       "      <th>item</th>\n",
       "      <th>function</th>\n",
       "    </tr>\n",
       "  </thead>\n",
       "  <tbody>\n",
       "    <tr>\n",
       "      <th>0</th>\n",
       "      <td>[2:3]</td>\n",
       "      <td>ADJ -&gt; 'мою' *</td>\n",
       "      <td>scanner</td>\n",
       "    </tr>\n",
       "    <tr>\n",
       "      <th>1</th>\n",
       "      <td>[2:3]</td>\n",
       "      <td>NP -&gt; ADJ * NP</td>\n",
       "      <td>completer</td>\n",
       "    </tr>\n",
       "    <tr>\n",
       "      <th>2</th>\n",
       "      <td>[2:3]</td>\n",
       "      <td>NP -&gt; ADJ * N</td>\n",
       "      <td>completer</td>\n",
       "    </tr>\n",
       "    <tr>\n",
       "      <th>3</th>\n",
       "      <td>[3:3]</td>\n",
       "      <td>NP -&gt; * ADJ NP</td>\n",
       "      <td>predictor</td>\n",
       "    </tr>\n",
       "    <tr>\n",
       "      <th>4</th>\n",
       "      <td>[3:3]</td>\n",
       "      <td>NP -&gt; * ADJ N</td>\n",
       "      <td>predictor</td>\n",
       "    </tr>\n",
       "    <tr>\n",
       "      <th>5</th>\n",
       "      <td>[3:3]</td>\n",
       "      <td>NP -&gt; * NN</td>\n",
       "      <td>predictor</td>\n",
       "    </tr>\n",
       "    <tr>\n",
       "      <th>6</th>\n",
       "      <td>[3:3]</td>\n",
       "      <td>NP -&gt; * N</td>\n",
       "      <td>predictor</td>\n",
       "    </tr>\n",
       "  </tbody>\n",
       "</table>\n",
       "</div>"
      ],
      "text/plain": [
       "  from to            item   function\n",
       "0   [2:3]  ADJ -> 'мою' *    scanner\n",
       "1   [2:3]  NP -> ADJ * NP  completer\n",
       "2   [2:3]   NP -> ADJ * N  completer\n",
       "3   [3:3]  NP -> * ADJ NP  predictor\n",
       "4   [3:3]   NP -> * ADJ N  predictor\n",
       "5   [3:3]      NP -> * NN  predictor\n",
       "6   [3:3]       NP -> * N  predictor"
      ]
     },
     "execution_count": 74,
     "metadata": {},
     "output_type": "execute_result"
    }
   ],
   "source": [
    "#Chart[3]\n",
    "data = [['[2:3]', '''ADJ -> 'мою' *''', 'scanner'], \n",
    "        ['[2:3]', 'NP -> ADJ * NP', 'completer'],\n",
    "        ['[2:3]', 'NP -> ADJ * N', 'completer'],\n",
    "        ['[3:3]', 'NP -> * ADJ NP', 'predictor'],\n",
    "        ['[3:3]', 'NP -> * ADJ N', 'predictor'],\n",
    "        ['[3:3]', 'NP -> * NN', 'predictor'],\n",
    "        ['[3:3]', 'NP -> * N', 'predictor']]\n",
    "pd.DataFrame(data, columns = ['from to', 'item', 'function'])"
   ]
  },
  {
   "cell_type": "code",
   "execution_count": 75,
   "metadata": {},
   "outputs": [
    {
     "data": {
      "text/html": [
       "<div>\n",
       "<style scoped>\n",
       "    .dataframe tbody tr th:only-of-type {\n",
       "        vertical-align: middle;\n",
       "    }\n",
       "\n",
       "    .dataframe tbody tr th {\n",
       "        vertical-align: top;\n",
       "    }\n",
       "\n",
       "    .dataframe thead th {\n",
       "        text-align: right;\n",
       "    }\n",
       "</style>\n",
       "<table border=\"1\" class=\"dataframe\">\n",
       "  <thead>\n",
       "    <tr style=\"text-align: right;\">\n",
       "      <th></th>\n",
       "      <th>from to</th>\n",
       "      <th>item</th>\n",
       "      <th>function</th>\n",
       "    </tr>\n",
       "  </thead>\n",
       "  <tbody>\n",
       "    <tr>\n",
       "      <th>0</th>\n",
       "      <td>[3:4]</td>\n",
       "      <td>N  -&gt; 'книгу' *</td>\n",
       "      <td>scanner</td>\n",
       "    </tr>\n",
       "    <tr>\n",
       "      <th>1</th>\n",
       "      <td>[2:4]</td>\n",
       "      <td>NP -&gt; ADJ NP *</td>\n",
       "      <td>completer</td>\n",
       "    </tr>\n",
       "    <tr>\n",
       "      <th>2</th>\n",
       "      <td>[2:4]</td>\n",
       "      <td>NP -&gt; ADJ N *</td>\n",
       "      <td>completer</td>\n",
       "    </tr>\n",
       "    <tr>\n",
       "      <th>3</th>\n",
       "      <td>[3:4]</td>\n",
       "      <td>NP -&gt; N *</td>\n",
       "      <td>completer</td>\n",
       "    </tr>\n",
       "    <tr>\n",
       "      <th>4</th>\n",
       "      <td>[1:4]</td>\n",
       "      <td>VP -&gt; V NP *</td>\n",
       "      <td>completer</td>\n",
       "    </tr>\n",
       "    <tr>\n",
       "      <th>5</th>\n",
       "      <td>[0:4]</td>\n",
       "      <td>S -&gt; V NP *</td>\n",
       "      <td>completer</td>\n",
       "    </tr>\n",
       "    <tr>\n",
       "      <th>6</th>\n",
       "      <td>[1:4]</td>\n",
       "      <td>VP -&gt; V NP *</td>\n",
       "      <td>ompleter</td>\n",
       "    </tr>\n",
       "  </tbody>\n",
       "</table>\n",
       "</div>"
      ],
      "text/plain": [
       "  from to             item   function\n",
       "0   [3:4]  N  -> 'книгу' *    scanner\n",
       "1   [2:4]   NP -> ADJ NP *  completer\n",
       "2   [2:4]    NP -> ADJ N *  completer\n",
       "3   [3:4]        NP -> N *  completer\n",
       "4   [1:4]     VP -> V NP *  completer\n",
       "5   [0:4]      S -> V NP *  completer\n",
       "6   [1:4]     VP -> V NP *   ompleter"
      ]
     },
     "execution_count": 75,
     "metadata": {},
     "output_type": "execute_result"
    }
   ],
   "source": [
    "#Chart[3]\n",
    "data = [['[3:4]', '''N  -> 'книгу' *''', 'scanner'], \n",
    "        ['[2:4]', 'NP -> ADJ NP *', 'completer'],\n",
    "        ['[2:4]', 'NP -> ADJ N *', 'completer'],\n",
    "        ['[3:4]', 'NP -> N *', 'completer'],\n",
    "        ['[1:4]', 'VP -> V NP *', 'completer'],\n",
    "        ['[0:4]', 'S -> V NP *', 'completer'],\n",
    "        ['[1:4]', 'VP -> V NP *', 'ompleter']]\n",
    "pd.DataFrame(data, columns = ['from to', 'item', 'function'])"
   ]
  },
  {
   "cell_type": "markdown",
   "metadata": {},
   "source": [
    "# Проверим результаты работы с помощью NLTK"
   ]
  },
  {
   "cell_type": "code",
   "execution_count": 76,
   "metadata": {},
   "outputs": [
    {
     "name": "stdout",
     "output_type": "stream",
     "text": [
      "Вася читает мою книгу\n",
      "(S (NP (NN Вася)) (VP (V читает) (NP (ADJ мою) (NP (N книгу)))))\n",
      "\n",
      "(S (NP (NN Вася)) (VP (V читает) (NP (ADJ мою) (N книгу))))\n",
      "\n",
      "Напиши какое-нибудь письмо\n",
      "(S (VP (V Напиши) (NP (ADJ какое-нибудь) (NP (N письмо)))))\n",
      "\n",
      "(S (VP (V Напиши) (NP (ADJ какое-нибудь) (N письмо))))\n",
      "\n",
      "Этот веселый мальчик идет\n",
      "(S (NP (ADJ Этот) (NP (ADJ веселый) (NP (N мальчик)))) (V идет))\n",
      "\n",
      "(S (NP (ADJ Этот) (NP (ADJ веселый) (N мальчик))) (V идет))\n",
      "\n",
      "(S (NP (ADJ Этот) (NP (ADJ веселый) (NP (N мальчик)))) (VP (V идет)))\n",
      "\n",
      "(S (NP (ADJ Этот) (NP (ADJ веселый) (N мальчик))) (VP (V идет)))\n",
      "\n",
      "Он любит читать всякие книги\n",
      "(S\n",
      "  (NP (N Он))\n",
      "  (VP (V любит) (VP (V читать) (NP (ADJ всякие) (NP (N книги))))))\n",
      "\n",
      "(S\n",
      "  (NP (N Он))\n",
      "  (VP (V любит) (VP (V читать) (NP (ADJ всякие) (N книги)))))\n",
      "\n"
     ]
    }
   ],
   "source": [
    "cp = nltk.EarleyChartParser(grammar)\n",
    "for i in range(len(sents)):\n",
    "    print(sents[i])\n",
    "    print_parses(cp, sents[i])"
   ]
  },
  {
   "cell_type": "markdown",
   "metadata": {},
   "source": [
    "Мы видим, что для каждого предложения, парсер выдает неоднозначные результаты. Связано это с разделением NP и VP. "
   ]
  },
  {
   "cell_type": "markdown",
   "metadata": {},
   "source": [
    "# Улучшения"
   ]
  },
  {
   "cell_type": "markdown",
   "metadata": {},
   "source": [
    "Значительным улучшением работы парсера может быть использование морфологического анализатора. Во первых, с его помощью можно обрабатывать новые слова (в одной функции можно определять часть речи нового слова и создавать новое правило). Во-вторых, использование морфологического анализатора может упроить работу в том плане, что мы можем записывать в грамматику только начальную форму слова, а перед парсингом приводить слова из предложения в их начальную форму. Это сократит размер грамматики в разы."
   ]
  },
  {
   "cell_type": "markdown",
   "metadata": {},
   "source": [
    "Также, возможно стоит изменить саму грамматику, чтобы не возникало неоднозначностей, связанных с VP: VP -> V. И изменим NP -> NN | N только на NN, добавив NN -> 'Он'"
   ]
  },
  {
   "cell_type": "code",
   "execution_count": 77,
   "metadata": {},
   "outputs": [],
   "source": [
    "new_rules = \"\"\"\n",
    "    S -> NP VP | NP V | VP\n",
    "    NP -> ADJ NP | ADJ N | NN\n",
    "    VP -> V NP | V VP\n",
    "    NN -> 'Вася' | 'Он'\n",
    "    N -> 'книгу' | 'письмо' | 'мальчик' | 'Он' | 'книги'\n",
    "    V -> 'читает' | 'Напиши' | 'идет' | 'любит' | 'читать'\n",
    "    ADJ -> 'мою' | 'какое-нибудь' | 'Этот' | 'веселый' | 'всякие'\n",
    "\"\"\".split('\\n')"
   ]
  },
  {
   "cell_type": "code",
   "execution_count": 78,
   "metadata": {},
   "outputs": [],
   "source": [
    "new_grammar = nltk.CFG.fromstring('\\n'.join(new_rules))"
   ]
  },
  {
   "cell_type": "code",
   "execution_count": 79,
   "metadata": {},
   "outputs": [
    {
     "name": "stdout",
     "output_type": "stream",
     "text": [
      "Вася читает мою книгу\n",
      "(S (NP (NN Вася)) (VP (V читает) (NP (ADJ мою) (N книгу))))\n",
      "\n",
      "Напиши какое-нибудь письмо\n",
      "(S (VP (V Напиши) (NP (ADJ какое-нибудь) (N письмо))))\n",
      "\n",
      "Этот веселый мальчик идет\n",
      "(S (NP (ADJ Этот) (NP (ADJ веселый) (N мальчик))) (V идет))\n",
      "\n",
      "Он любит читать всякие книги\n",
      "(S\n",
      "  (NP (NN Он))\n",
      "  (VP (V любит) (VP (V читать) (NP (ADJ всякие) (N книги)))))\n",
      "\n"
     ]
    }
   ],
   "source": [
    "new_cp = nltk.EarleyChartParser(new_grammar)\n",
    "for i in range(len(sents)):\n",
    "    print(sents[i])\n",
    "    print_parses(new_cp, sents[i])"
   ]
  },
  {
   "cell_type": "markdown",
   "metadata": {},
   "source": [
    "# Неоднозначный разбор"
   ]
  },
  {
   "cell_type": "markdown",
   "metadata": {},
   "source": [
    "Помимо того, что уже есть, неоднозначный разбор будет если разбирать слово, которое может относиться к двум частям речи. Например, суши может быть глаголом (суши весла), а может быть существительным (мы ели вкусные суши) "
   ]
  }
 ],
 "metadata": {
  "kernelspec": {
   "display_name": "Python 3",
   "language": "python",
   "name": "python3"
  },
  "language_info": {
   "codemirror_mode": {
    "name": "ipython",
    "version": 3
   },
   "file_extension": ".py",
   "mimetype": "text/x-python",
   "name": "python",
   "nbconvert_exporter": "python",
   "pygments_lexer": "ipython3",
   "version": "3.7.1"
  }
 },
 "nbformat": 4,
 "nbformat_minor": 2
}
